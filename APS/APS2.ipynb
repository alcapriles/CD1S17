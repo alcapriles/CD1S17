{
 "cells": [
  {
   "cell_type": "markdown",
   "metadata": {},
   "source": [
    "___\n",
    "# Atividade: Variáveis quantitativas com Expectativa de Vida\n",
    "___\n",
    "\n",
    "## Aula 03\n",
    "\n",
    "\n",
    "\n",
    "**Preparo prévio:**\n",
    "1.\tLeitura prévia necessária: Magalhães e Lima (7ª. Edição): pág. 9 a 17 – destacando para variáveis quantitativas; pág. 106 e 107 (Definição 4.1 e Exemplo 4.1).\n",
    "\n",
    "**Hoje:**\n",
    "1. Explorar a variável quantitativa Expectativa de Vida de diversos países do mundo nos anos: 1800, 1926 e 2000. \n",
    "2. Construir tabelas de frequências e interpretar resultados considerando variáveis quantitativas de forma univariada. \n",
    "4. Explicar vantagens e desvantagens sobre o uso da frequência ou da densidade na construção de um histograma e saber interpretá-lo. \n",
    "5. Desenvolver contas para obtenção da média e mediana nos três anos.\n",
    "6. Identificar o formato dos dados (simétrico, assimétrico positivo ou assimétrico negativo) ao observar um histograma e explicar o que cada formato pode impactar nas medidas de posição.\n",
    "\n",
    "\n",
    "**Próxima aula:**\n",
    "1. Leitura prévia necessária: Magalhães e Lima (7ª. Edição): pág. 18 a 25; pág. 106 e 107 (Definição 4.1 e Exemplo 4.1); pág. 116 e 117 (Definição 4.4 e Exemplo 4.8). \n",
    "2. Leitura prévia necessária: Montgomery et al (5ª. Edição): pág. 24 a 28.\n",
    "___\n"
   ]
  },
  {
   "cell_type": "markdown",
   "metadata": {},
   "source": [
    "## <font color='blue'>Expectativa de Vida - LIFE</font>\n",
    "\n",
    "O Banco Mundial (http://data.worldbank.org/brazilian-portuguese) disponibiliza bases de dados estatísticos para um pouco mais de 200 países do mundo desde o ano 1800, as quais consideram uma seleção abrangente de indicadores econômicos, sociais e ambientais. Um desses indicadores é a expectativa de vida (em anos) de cada país.\n",
    "\n",
    "O arquivo `Life.xlsx` contém a expectativa de vida de vários países para os anos 1800, 1926 e 2000.\n",
    "\n",
    "Considerando esses dados, faça as seguintes tarefas:\n",
    "\n",
    "1.\tConstrua uma tabela de frequências absolutas e relativas (em %) para cada um dos anos. \n",
    "\n",
    "2.\tConstrua um histograma para cada ano e interprete os gráficos. \n",
    "\n",
    "3. De acordo com o formato de um histograma, é possível classificar a distribuição dos dados como sendo: simétrica, assimétrica positiva (ou a direita) ou assimétrica negativa (ou a esquerda). Observando o formato de cada histograma construído no item anterior, classifique como sendo simétrico, assimétrico positivo ou assimétrico negativo. Argumente claramente o motivo de sua classificação. \n",
    "![AssimSim](AssimSim.jpg)\n",
    "\n",
    "4.\tPara cada ano, calcule a expectativa média de vida, a expectativa mediana de vida e a classe modal.\n",
    "\n",
    "5.\tPara cada um dos três anos, ordene os valores das medidas de posição (média, mediana e classe modal) obtidas no item anterior. A ordem dessas três medidas de posição é um mero acaso ou pode ser consequência do formato dos dados? Argumente claramente sua resposta.\n"
   ]
  },
  {
   "cell_type": "code",
   "execution_count": 20,
   "metadata": {
    "collapsed": false
   },
   "outputs": [],
   "source": [
    "%matplotlib inline\n",
    "import pandas as pd\n",
    "import matplotlib.pyplot as plt\n",
    "import os\n",
    "from numpy import arange"
   ]
  },
  {
   "cell_type": "code",
   "execution_count": 2,
   "metadata": {
    "collapsed": false
   },
   "outputs": [
    {
     "name": "stdout",
     "output_type": "stream",
     "text": [
      "Esperamos trabalhar no diretório\n",
      "C:\\Users\\dell\\Documents\\Insper\\2º Semestre\\Ciência dos Dados DP\n"
     ]
    }
   ],
   "source": [
    "print('Esperamos trabalhar no diretório')\n",
    "print(os.getcwd())"
   ]
  },
  {
   "cell_type": "code",
   "execution_count": 4,
   "metadata": {
    "collapsed": false
   },
   "outputs": [
    {
     "data": {
      "text/html": [
       "<div>\n",
       "<table border=\"1\" class=\"dataframe\">\n",
       "  <thead>\n",
       "    <tr style=\"text-align: right;\">\n",
       "      <th></th>\n",
       "      <th>Pais</th>\n",
       "      <th>L1800</th>\n",
       "      <th>L1926</th>\n",
       "      <th>L2000</th>\n",
       "    </tr>\n",
       "  </thead>\n",
       "  <tbody>\n",
       "    <tr>\n",
       "      <th>0</th>\n",
       "      <td>Afghanistan</td>\n",
       "      <td>28.2110</td>\n",
       "      <td>26.919920</td>\n",
       "      <td>51.0</td>\n",
       "    </tr>\n",
       "    <tr>\n",
       "      <th>1</th>\n",
       "      <td>Albania</td>\n",
       "      <td>35.4000</td>\n",
       "      <td>35.400000</td>\n",
       "      <td>74.2</td>\n",
       "    </tr>\n",
       "    <tr>\n",
       "      <th>2</th>\n",
       "      <td>Algeria</td>\n",
       "      <td>28.8224</td>\n",
       "      <td>30.968000</td>\n",
       "      <td>73.2</td>\n",
       "    </tr>\n",
       "    <tr>\n",
       "      <th>3</th>\n",
       "      <td>Angola</td>\n",
       "      <td>26.9800</td>\n",
       "      <td>26.980000</td>\n",
       "      <td>52.6</td>\n",
       "    </tr>\n",
       "    <tr>\n",
       "      <th>4</th>\n",
       "      <td>Antigua and Barbuda</td>\n",
       "      <td>33.5360</td>\n",
       "      <td>37.673931</td>\n",
       "      <td>73.9</td>\n",
       "    </tr>\n",
       "  </tbody>\n",
       "</table>\n",
       "</div>"
      ],
      "text/plain": [
       "                  Pais    L1800      L1926  L2000\n",
       "0          Afghanistan  28.2110  26.919920   51.0\n",
       "1              Albania  35.4000  35.400000   74.2\n",
       "2              Algeria  28.8224  30.968000   73.2\n",
       "3               Angola  26.9800  26.980000   52.6\n",
       "4  Antigua and Barbuda  33.5360  37.673931   73.9"
      ]
     },
     "execution_count": 4,
     "metadata": {},
     "output_type": "execute_result"
    }
   ],
   "source": [
    "dados = pd.read_excel('Life.xlsx')\n",
    "dados.head()"
   ]
  },
  {
   "cell_type": "code",
   "execution_count": 12,
   "metadata": {
    "collapsed": false
   },
   "outputs": [
    {
     "data": {
      "text/plain": [
       "count    201.000000\n",
       "mean      68.012856\n",
       "std        9.211812\n",
       "min       45.700000\n",
       "25%       61.400000\n",
       "50%       71.200000\n",
       "75%       75.000000\n",
       "max       81.100000\n",
       "Name: L2000, dtype: float64"
      ]
     },
     "execution_count": 12,
     "metadata": {},
     "output_type": "execute_result"
    }
   ],
   "source": [
    "#Filtando os anos\n",
    "l2000 = dados.iloc[:,-1]\n",
    "l1800 = dados.iloc[:,-3]\n",
    "l1926 = dados.iloc[:,-2]\n",
    "l2000.describe()"
   ]
  },
  {
   "cell_type": "code",
   "execution_count": 35,
   "metadata": {
    "collapsed": false
   },
   "outputs": [
    {
     "name": "stdout",
     "output_type": "stream",
     "text": [
      "Frequências relativas ao ano de 1800:\n",
      "[22, 26)    10.4\n",
      "[26, 30)    21.9\n",
      "[30, 34)    43.8\n",
      "[34, 38)    18.9\n",
      "[38, 42)     4.5\n",
      "[42, 46)     0.5\n",
      "[46, 50)     0.0\n",
      "[50, 54)     0.0\n",
      "[54, 58)     0.0\n",
      "[58, 62)     0.0\n",
      "[62, 66)     0.0\n",
      "[66, 70)     0.0\n",
      "[70, 74)     0.0\n",
      "[74, 78)     0.0\n",
      "[78, 82)     0.0\n",
      "[82, 86)     0.0\n",
      "Name: L1800, dtype: float64 \n",
      "\n"
     ]
    }
   ],
   "source": [
    "# min 23.387 max 81.1\n",
    "faixa = arange(22,87,4)\n",
    "Freq1800 = pd.cut(l1800, faixa, False)\n",
    "print('Frequências relativas ao ano de 1800:')\n",
    "ut1 = (Freq1800.value_counts(True)*100).round(decimals=1).reindex(['[22, 26)', '[26, 30)', '[30, 34)', '[34, 38)',\n",
    "                                                               '[38, 42)', '[42, 46)', '[46, 50)', '[50, 54)', '[54, 58)',\n",
    "                                                               '[58, 62)', '[62, 66)', '[66, 70)', '[70, 74)', '[74, 78)',\n",
    "                                                               '[78, 82)', '[82, 86)'])\n",
    "print(ut1,'\\n')"
   ]
  },
  {
   "cell_type": "code",
   "execution_count": 49,
   "metadata": {
    "collapsed": false
   },
   "outputs": [
    {
     "data": {
      "text/plain": [
       "<matplotlib.text.Text at 0x1c1c9442080>"
      ]
     },
     "execution_count": 49,
     "metadata": {},
     "output_type": "execute_result"
    },
    {
     "data": {
      "image/png": "[encoded data removed]",
      "text/plain": [
       "<matplotlib.figure.Figure at 0x1c1c79e2748>"
      ]
     },
     "metadata": {},
     "output_type": "display_data"
    }
   ],
   "source": [
    "plot = dados.L1800.plot.hist(bins = faixa,title='EXPECTATIVA DE VIDA - 1800',figsize=(6, 6),color=('b'))\n",
    "plt.ylabel('Freq.Relativa (em %)')\n",
    "plt.xlabel('Longevidade')"
   ]
  },
  {
   "cell_type": "markdown",
   "metadata": {},
   "source": [
    "Percebe-se que o histograma da longevidade dos países no ano de 1800 possui assimetria negativa, o que nos mostra que grande parte dos países possuiam uma expectativa de vida relativamente baixa. Também podemos perceber, pelo término sucinto da curva do histograma que pouquissimos países possuíam uma expectativa de vida superior a 45 anos."
   ]
  },
  {
   "cell_type": "code",
   "execution_count": 55,
   "metadata": {
    "collapsed": false
   },
   "outputs": [
    {
     "data": {
      "text/plain": [
       "count    201.000000\n",
       "mean      31.485800\n",
       "std        3.763625\n",
       "min       23.387000\n",
       "25%       29.000000\n",
       "50%       31.800000\n",
       "75%       33.900000\n",
       "max       42.845599\n",
       "Name: L1800, dtype: float64"
      ]
     },
     "execution_count": 55,
     "metadata": {},
     "output_type": "execute_result"
    }
   ],
   "source": [
    "l1800.describe()"
   ]
  },
  {
   "cell_type": "markdown",
   "metadata": {},
   "source": [
    "Média: 31.48, Mediana: 31.80\n",
    "\n",
    "Ter a mediana maior que a média justifica o formato da curva do histograma. Isso nos mostra que a maioria dos países estão próximos ou abaixo da média."
   ]
  },
  {
   "cell_type": "code",
   "execution_count": 36,
   "metadata": {
    "collapsed": false
   },
   "outputs": [
    {
     "name": "stdout",
     "output_type": "stream",
     "text": [
      "Frequências relativas ao ano de 1926:\n",
      "[22, 26)     6.5\n",
      "[26, 30)    14.9\n",
      "[30, 34)    35.8\n",
      "[34, 38)    11.9\n",
      "[38, 42)    10.9\n",
      "[42, 46)     3.5\n",
      "[46, 50)     3.5\n",
      "[50, 54)     4.5\n",
      "[54, 58)     4.0\n",
      "[58, 62)     2.5\n",
      "[62, 66)     2.0\n",
      "[66, 70)     0.0\n",
      "[70, 74)     0.0\n",
      "[74, 78)     0.0\n",
      "[78, 82)     0.0\n",
      "[82, 86)     0.0\n",
      "Name: L1926, dtype: float64 \n",
      "\n"
     ]
    }
   ],
   "source": [
    "Freq1926 = pd.cut(l1926, faixa, False)\n",
    "print('Frequências relativas ao ano de 1926:')\n",
    "ut1 = (Freq1926.value_counts(True)*100).round(decimals=1).reindex(['[22, 26)', '[26, 30)', '[30, 34)', '[34, 38)',\n",
    "                                                               '[38, 42)', '[42, 46)', '[46, 50)', '[50, 54)', '[54, 58)',\n",
    "                                                               '[58, 62)', '[62, 66)', '[66, 70)', '[70, 74)', '[74, 78)',\n",
    "                                                               '[78, 82)', '[82, 86)'])\n",
    "print(ut1,'\\n')"
   ]
  },
  {
   "cell_type": "code",
   "execution_count": 51,
   "metadata": {
    "collapsed": false
   },
   "outputs": [
    {
     "data": {
      "text/plain": [
       "<matplotlib.text.Text at 0x1c1c9447278>"
      ]
     },
     "execution_count": 51,
     "metadata": {},
     "output_type": "execute_result"
    },
    {
     "data": {
      "image/png": "[encoded data removed]",
      "text/plain": [
       "<matplotlib.figure.Figure at 0x1c1c94f51d0>"
      ]
     },
     "metadata": {},
     "output_type": "display_data"
    }
   ],
   "source": [
    "plot = dados.L1926.plot.hist(bins = faixa,title='EXPECTATIVA DE VIDA - 1926',figsize=(6, 6),color=('b'))\n",
    "plt.ylabel('Freq.Relativa (em %)')\n",
    "plt.xlabel('Longevidade')"
   ]
  },
  {
   "cell_type": "markdown",
   "metadata": {},
   "source": [
    "Assim como o histograma de 1800, o de 1926 mostra possui assimetria negativa e mostra que a maioria dos países possuía uma lomgevidade relativamente baixa. Entretanto, em 1926 podemos perceber um delínio menos abrubto na curva do histograma. Isso nos permite afirmar que o número de países com a expectativa de vida acima dos 45/50 anos."
   ]
  },
  {
   "cell_type": "code",
   "execution_count": 54,
   "metadata": {
    "collapsed": false
   },
   "outputs": [
    {
     "data": {
      "text/plain": [
       "count    201.000000\n",
       "mean      36.353496\n",
       "std        9.590987\n",
       "min       23.387000\n",
       "25%       30.400000\n",
       "50%       32.800000\n",
       "75%       39.360000\n",
       "max       63.260000\n",
       "Name: L1926, dtype: float64"
      ]
     },
     "execution_count": 54,
     "metadata": {},
     "output_type": "execute_result"
    }
   ],
   "source": [
    "l1926.describe()"
   ]
  },
  {
   "cell_type": "markdown",
   "metadata": {},
   "source": [
    "Mediana: 32.8, Média: 36.35\n",
    "\n",
    "Ter a mediana menor que a média justifica o formato da curva do histograma pois isso nos mostra que a maioria dos países estão próximos ou abaixo da média"
   ]
  },
  {
   "cell_type": "code",
   "execution_count": 37,
   "metadata": {
    "collapsed": false
   },
   "outputs": [
    {
     "name": "stdout",
     "output_type": "stream",
     "text": [
      "Frequências relativas ao ano de 1800:\n",
      "[22, 26)     0.0\n",
      "[26, 30)     0.0\n",
      "[30, 34)     0.0\n",
      "[34, 38)     0.0\n",
      "[38, 42)     0.0\n",
      "[42, 46)     0.5\n",
      "[46, 50)     3.0\n",
      "[50, 54)     9.0\n",
      "[54, 58)     5.5\n",
      "[58, 62)     9.0\n",
      "[62, 66)     9.0\n",
      "[66, 70)    10.0\n",
      "[70, 74)    22.4\n",
      "[74, 78)    20.9\n",
      "[78, 82)    10.9\n",
      "[82, 86)     0.0\n",
      "Name: L2000, dtype: float64 \n",
      "\n"
     ]
    }
   ],
   "source": [
    "Freq2000 = pd.cut(l2000, faixa, False)\n",
    "print('Frequências relativas ao ano de 1800:')\n",
    "ut1 = (Freq2000.value_counts(True)*100).round(decimals=1).reindex(['[22, 26)', '[26, 30)', '[30, 34)', '[34, 38)',\n",
    "                                                               '[38, 42)', '[42, 46)', '[46, 50)', '[50, 54)', '[54, 58)',\n",
    "                                                               '[58, 62)', '[62, 66)', '[66, 70)', '[70, 74)', '[74, 78)',\n",
    "                                                               '[78, 82)', '[82, 86)'])\n",
    "print(ut1,'\\n')"
   ]
  },
  {
   "cell_type": "code",
   "execution_count": 52,
   "metadata": {
    "collapsed": false
   },
   "outputs": [
    {
     "data": {
      "text/plain": [
       "<matplotlib.text.Text at 0x1c1c9643c88>"
      ]
     },
     "execution_count": 52,
     "metadata": {},
     "output_type": "execute_result"
    },
    {
     "data": {
      "image/png": "[encoded data removed]",
      "text/plain": [
       "<matplotlib.figure.Figure at 0x1c1c9692da0>"
      ]
     },
     "metadata": {},
     "output_type": "display_data"
    }
   ],
   "source": [
    "plot = dados.L2000.plot.hist(bins = faixa,title='EXPECTATIVA DE VIDA - 2000',figsize=(6, 6),color=('b'))\n",
    "plt.ylabel('Freq.Relativa (em %)')\n",
    "plt.xlabel('Longevidade')"
   ]
  },
  {
   "cell_type": "markdown",
   "metadata": {},
   "source": [
    "O histograma do ano 2000 possui assimetria positiva. Isso nos mostra que a maioria dos países tiveram evolução significativa na expectativa de vida de seus cidadãos. São poucos os países que possuem longevidade abaixo dos 45 anos."
   ]
  },
  {
   "cell_type": "code",
   "execution_count": 56,
   "metadata": {
    "collapsed": false
   },
   "outputs": [
    {
     "data": {
      "text/plain": [
       "count    201.000000\n",
       "mean      68.012856\n",
       "std        9.211812\n",
       "min       45.700000\n",
       "25%       61.400000\n",
       "50%       71.200000\n",
       "75%       75.000000\n",
       "max       81.100000\n",
       "Name: L2000, dtype: float64"
      ]
     },
     "execution_count": 56,
     "metadata": {},
     "output_type": "execute_result"
    }
   ],
   "source": [
    "l2000.describe()"
   ]
  },
  {
   "cell_type": "markdown",
   "metadata": {},
   "source": [
    "Média: 68.01, Mediana: 71.2\n",
    "\n",
    "Ter a mediana muito maior que a média justifica o formato da curva do histograma. Isso nos mostra que a maioria dos países estão próximos ou acima da média."
   ]
  }
 ],
 "metadata": {
  "anaconda-cloud": {},
  "kernelspec": {
   "display_name": "Python [Root]",
   "language": "python",
   "name": "Python [Root]"
  },
  "language_info": {
   "codemirror_mode": {
    "name": "ipython",
    "version": 3
   },
   "file_extension": ".py",
   "mimetype": "text/x-python",
   "name": "python",
   "nbconvert_exporter": "python",
   "pygments_lexer": "ipython3",
   "version": "3.5.2"
  }
 },
 "nbformat": 4,
 "nbformat_minor": 0
}
