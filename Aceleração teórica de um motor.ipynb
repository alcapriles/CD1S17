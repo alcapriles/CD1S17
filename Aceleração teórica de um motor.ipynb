{
 "cells": [
  {
   "cell_type": "code",
   "execution_count": 2,
   "metadata": {
    "collapsed": true
   },
   "outputs": [],
   "source": [
    "import math"
   ]
  },
  {
   "cell_type": "code",
   "execution_count": 8,
   "metadata": {
    "collapsed": false
   },
   "outputs": [
    {
     "name": "stdout",
     "output_type": "stream",
     "text": [
      "1.1071487177940904\n",
      "63.43494882292201\n",
      "0.5\n"
     ]
    }
   ],
   "source": [
    "r = 12\n",
    "L = 24\n",
    "Lambda = r/L\n",
    "alpha = math.atan(L/r)\n",
    "print(alpha)\n",
    "print(math.degrees(alpha))\n",
    "print(Lambda)"
   ]
  },
  {
   "cell_type": "code",
   "execution_count": null,
   "metadata": {
    "collapsed": true
   },
   "outputs": [],
   "source": [
    "def func1(v, t): #v = [x, y, vy]\n",
    "    m = 88\n",
    "    g = 9.8\n",
    "    k = 0.5\n",
    "    dvdt = (k/m)*(v[1]**2) - g\n",
    "    dydt = v[1]\n",
    "    return [dydt, dvdt]\n",
    "\n",
    "def func1():\n",
    "    x = r*(1 - math.cos(alpha)) - L*(lambda**2)*0.25*(1 - math.cos(2*alpha))\n",
    "    "
   ]
  }
 ],
 "metadata": {
  "kernelspec": {
   "display_name": "Python 3",
   "language": "python",
   "name": "python3"
  },
  "language_info": {
   "codemirror_mode": {
    "name": "ipython",
    "version": 3
   },
   "file_extension": ".py",
   "mimetype": "text/x-python",
   "name": "python",
   "nbconvert_exporter": "python",
   "pygments_lexer": "ipython3",
   "version": "3.5.1"
  }
 },
 "nbformat": 4,
 "nbformat_minor": 0
}
