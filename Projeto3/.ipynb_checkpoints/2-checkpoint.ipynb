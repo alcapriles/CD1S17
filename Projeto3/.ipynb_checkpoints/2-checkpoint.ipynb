{
 "cells": [
  {
   "cell_type": "markdown",
   "metadata": {},
   "source": [
    "___\n",
    "# PROJETO 3\n",
    "### Entrega Final"
   ]
  },
  {
   "cell_type": "markdown",
   "metadata": {},
   "source": [
    "### Ana Capriles\n",
    "___"
   ]
  },
  {
   "cell_type": "markdown",
   "metadata": {},
   "source": [
    "O objetivo deste projeto é compreender e explicar o resultado do\n",
    "Teorema do Limite Central (TLC) por meio de simulação, uma vez que a demonstração\n",
    "teórica requer conhecimento de outras teorias avançadas, fugindo ao escopo do curso."
   ]
  },
  {
   "cell_type": "markdown",
   "metadata": {},
   "source": [
    "O enunciado do Teorema do Limite Central consiste no seguinte: \n",
    "Para uma amostra aleatória (X1, … , Xn) retirada de uma população cuja variável de interesse X tem média μ e variância $${σ^2}$$ então a distribuição \n",
    "da média amostral (X̅) se aproxima de uma distribuição normal com média μ e variância $${σ^2}/n$$ quando n tende ao infinito (suficientemente grande)."
   ]
  },
  {
   "cell_type": "code",
   "execution_count": 27,
   "metadata": {
    "collapsed": false
   },
   "outputs": [],
   "source": [
    "%matplotlib inline\n",
    "import pandas as pd\n",
    "import matplotlib.pyplot as plt\n",
    "import numpy as np\n",
    "import os\n",
    "from scipy import stats\n",
    "import math"
   ]
  },
  {
   "cell_type": "markdown",
   "metadata": {
    "collapsed": true
   },
   "source": [
    "A distribuição teórica empregada para a simulação será a distribuição Erlang, desenvolvida por Agner Krarup Erlang para analisar \n",
    "o número de chamadas telefônicas que poderiam ser feitas simultaneamente aos operadores das estações de comutação. \n",
    "Atualmente esta distribuição é utilizada em várias áreas que aplicam processos estocásticos (família de variáveis aleatórias \n",
    "representando a evolução de um sistema de valores com o tempo)."
   ]
  },
  {
   "cell_type": "markdown",
   "metadata": {},
   "source": [
    "Será sorteado aleatoriamente um número muito grande de valores da distribuição Erlang, por meio do método rvs. Esses valores gerados \n",
    "irão a população. "
   ]
  },
  {
   "cell_type": "code",
   "execution_count": 123,
   "metadata": {
    "collapsed": false
   },
   "outputs": [
    {
     "name": "stdout",
     "output_type": "stream",
     "text": [
      "Média da população: 1.13298112775\n",
      "Variância da população: 0.364474029714\n"
     ]
    }
   ],
   "source": [
    "pop = stats.lognorm.rvs(0.5, loc=0, scale= 1, size=1000000)\n",
    "mu = pop.mean()\n",
    "sigma = pop.var()\n",
    "print('Média da população:', mu)\n",
    "print('Variância da população:', sigma)"
   ]
  },
  {
   "cell_type": "markdown",
   "metadata": {},
   "source": [
    "Histograma da distribuição:"
   ]
  },
  {
   "cell_type": "code",
   "execution_count": 124,
   "metadata": {
    "collapsed": false
   },
   "outputs": [
    {
     "data": {
      "image/png": "[encoded data removed]",
      "text/plain": [
       "<matplotlib.figure.Figure at 0x21482bacc18>"
      ]
     },
     "metadata": {},
     "output_type": "display_data"
    }
   ],
   "source": [
    "plot = plt.hist(pop, bins = 500)"
   ]
  },
  {
   "cell_type": "markdown",
   "metadata": {},
   "source": [
    "___\n",
    "## Estudo da Distribuição da Média Amostral  $\\bar{X}$  via SIMULAÇÃO"
   ]
  },
  {
   "cell_type": "code",
   "execution_count": 143,
   "metadata": {
    "collapsed": false
   },
   "outputs": [],
   "source": [
    "#distribuição da média amostral:\n",
    "def mediaAmostral(m, n):\n",
    "    k = []\n",
    "    for i in range(m):\n",
    "        l = []\n",
    "        l.append(np.random.choice(pop,n))\n",
    "        k.append(sum(l)/len(l)) \n",
    "    return k"
   ]
  },
  {
   "cell_type": "markdown",
   "metadata": {},
   "source": [
    "### n = 2"
   ]
  },
  {
   "cell_type": "code",
   "execution_count": 142,
   "metadata": {
    "collapsed": false,
    "scrolled": true
   },
   "outputs": [
    {
     "ename": "TypeError",
     "evalue": "cannot convert the series to <class 'float'>",
     "output_type": "error",
     "traceback": [
      "\u001b[1;31m---------------------------------------------------------------------------\u001b[0m",
      "\u001b[1;31mTypeError\u001b[0m                                 Traceback (most recent call last)",
      "\u001b[1;32m<ipython-input-142-efe0c21a6990>\u001b[0m in \u001b[0;36m<module>\u001b[1;34m()\u001b[0m\n\u001b[0;32m      2\u001b[0m \u001b[0mdfdois\u001b[0m \u001b[1;33m=\u001b[0m \u001b[0mpd\u001b[0m\u001b[1;33m.\u001b[0m\u001b[0mDataFrame\u001b[0m\u001b[1;33m(\u001b[0m\u001b[0mdois\u001b[0m\u001b[1;33m)\u001b[0m\u001b[1;33m\u001b[0m\u001b[0m\n\u001b[0;32m      3\u001b[0m \u001b[0mmu2\u001b[0m \u001b[1;33m=\u001b[0m \u001b[0mdfdois\u001b[0m\u001b[1;33m.\u001b[0m\u001b[0mmean\u001b[0m\u001b[1;33m(\u001b[0m\u001b[1;33m)\u001b[0m\u001b[1;33m\u001b[0m\u001b[0m\n\u001b[1;32m----> 4\u001b[1;33m \u001b[0msigma2\u001b[0m \u001b[1;33m=\u001b[0m \u001b[0mmath\u001b[0m\u001b[1;33m.\u001b[0m\u001b[0mpow\u001b[0m\u001b[1;33m(\u001b[0m\u001b[0mdfdois\u001b[0m\u001b[1;33m.\u001b[0m\u001b[0mstd\u001b[0m\u001b[1;33m(\u001b[0m\u001b[1;33m)\u001b[0m\u001b[1;33m,\u001b[0m\u001b[1;36m2\u001b[0m\u001b[1;33m)\u001b[0m\u001b[1;33m\u001b[0m\u001b[0m\n\u001b[0m\u001b[0;32m      5\u001b[0m \u001b[0mprint\u001b[0m\u001b[1;33m(\u001b[0m\u001b[1;34m'Média da população para n = 2:'\u001b[0m\u001b[1;33m,\u001b[0m \u001b[0mmu2\u001b[0m\u001b[1;33m)\u001b[0m\u001b[1;33m\u001b[0m\u001b[0m\n\u001b[0;32m      6\u001b[0m \u001b[0mprint\u001b[0m\u001b[1;33m(\u001b[0m\u001b[1;34m'Variância da população para n = 2:'\u001b[0m\u001b[1;33m,\u001b[0m \u001b[0msigma2\u001b[0m\u001b[1;33m)\u001b[0m\u001b[1;33m\u001b[0m\u001b[0m\n",
      "\u001b[1;32mC:\\Users\\Ana Capriles\\Anaconda4\\lib\\site-packages\\pandas\\core\\series.py\u001b[0m in \u001b[0;36mwrapper\u001b[1;34m(self)\u001b[0m\n\u001b[0;32m     78\u001b[0m             \u001b[1;32mreturn\u001b[0m \u001b[0mconverter\u001b[0m\u001b[1;33m(\u001b[0m\u001b[0mself\u001b[0m\u001b[1;33m.\u001b[0m\u001b[0miloc\u001b[0m\u001b[1;33m[\u001b[0m\u001b[1;36m0\u001b[0m\u001b[1;33m]\u001b[0m\u001b[1;33m)\u001b[0m\u001b[1;33m\u001b[0m\u001b[0m\n\u001b[0;32m     79\u001b[0m         raise TypeError(\"cannot convert the series to \"\n\u001b[1;32m---> 80\u001b[1;33m                         \"{0}\".format(str(converter)))\n\u001b[0m\u001b[0;32m     81\u001b[0m \u001b[1;33m\u001b[0m\u001b[0m\n\u001b[0;32m     82\u001b[0m     \u001b[1;32mreturn\u001b[0m \u001b[0mwrapper\u001b[0m\u001b[1;33m\u001b[0m\u001b[0m\n",
      "\u001b[1;31mTypeError\u001b[0m: cannot convert the series to <class 'float'>"
     ]
    }
   ],
   "source": [
    "dois = mediaAmostral(10000, 2)\n",
    "dfdois = pd.DataFrame(dois)\n",
    "mu2 = dfdois.mean()\n",
    "sigma2 = math.pow(dfdois.std(),2)\n",
    "print('Média da população para n = 2:', mu2)\n",
    "print('Variância da população para n = 2:', sigma2)"
   ]
  },
  {
   "cell_type": "code",
   "execution_count": 127,
   "metadata": {
    "collapsed": false
   },
   "outputs": [
    {
     "data": {
      "image/png": "[encoded data removed]",
      "text/plain": [
       "<matplotlib.figure.Figure at 0x21482cf42b0>"
      ]
     },
     "metadata": {},
     "output_type": "display_data"
    }
   ],
   "source": [
    "plot = plt.hist(dfdois, bins = 100)"
   ]
  },
  {
   "cell_type": "markdown",
   "metadata": {},
   "source": [
    "### n = 4"
   ]
  },
  {
   "cell_type": "code",
   "execution_count": 128,
   "metadata": {
    "collapsed": false
   },
   "outputs": [
    {
     "name": "stdout",
     "output_type": "stream",
     "text": [
      "Média da população para n = 4: 0    1.132987\n",
      "dtype: float64\n",
      "Variância da população para n = 4: 0.0910726720241622\n"
     ]
    }
   ],
   "source": [
    "quatro = mediaAmostral(10000, 4)\n",
    "dfquatro = pd.DataFrame(quatro)\n",
    "mu4 = dfquatro.mean()\n",
    "sigma4 = math.pow(dfquatro.std(),2)\n",
    "print('Média da população para n = 4:', mu4)\n",
    "print('Variância da população para n = 4:', sigma4)"
   ]
  },
  {
   "cell_type": "code",
   "execution_count": 129,
   "metadata": {
    "collapsed": false
   },
   "outputs": [
    {
     "data": {
      "image/png": "[encoded data removed]",
      "text/plain": [
       "<matplotlib.figure.Figure at 0x21482d40fd0>"
      ]
     },
     "metadata": {},
     "output_type": "display_data"
    }
   ],
   "source": [
    "plot = plt.hist(dfquatro, bins = 100)"
   ]
  },
  {
   "cell_type": "markdown",
   "metadata": {},
   "source": [
    "### n = 20"
   ]
  },
  {
   "cell_type": "code",
   "execution_count": 130,
   "metadata": {
    "collapsed": false
   },
   "outputs": [
    {
     "name": "stdout",
     "output_type": "stream",
     "text": [
      "Média da população para n = 4: 0    1.136914\n",
      "dtype: float64\n",
      "Variância da população para n = 4: 0.01833402148011774\n"
     ]
    }
   ],
   "source": [
    "vinte = mediaAmostral(10000, 20)\n",
    "dfvinte = pd.DataFrame(vinte)\n",
    "mu20 = dfvinte.mean()\n",
    "sigma20 = math.pow(dfvinte.std(),2)\n",
    "print('Média da população para n = 4:', mu20)\n",
    "print('Variância da população para n = 4:', sigma20)"
   ]
  },
  {
   "cell_type": "code",
   "execution_count": 131,
   "metadata": {
    "collapsed": false
   },
   "outputs": [
    {
     "data": {
      "image/png": "[encoded data removed]",
      "text/plain": [
       "<matplotlib.figure.Figure at 0x21480666cc0>"
      ]
     },
     "metadata": {},
     "output_type": "display_data"
    }
   ],
   "source": [
    "plot = plt.hist(dfvinte, bins = 100)"
   ]
  },
  {
   "cell_type": "markdown",
   "metadata": {},
   "source": [
    "### n = 50"
   ]
  },
  {
   "cell_type": "code",
   "execution_count": 132,
   "metadata": {
    "collapsed": false
   },
   "outputs": [
    {
     "name": "stdout",
     "output_type": "stream",
     "text": [
      "Média da população para n = 4: 0    1.131771\n",
      "dtype: float64\n",
      "Variância da população para n = 4: 0.007435542592848344\n"
     ]
    }
   ],
   "source": [
    "cinquenta = mediaAmostral(10000, 50)\n",
    "dfcinquenta = pd.DataFrame(cinquenta)\n",
    "mu50 = dfcinquenta.mean()\n",
    "sigma50 = math.pow(dfcinquenta.std(),2)\n",
    "print('Média da população para n = 4:', mu50)\n",
    "print('Variância da população para n = 4:', sigma50)"
   ]
  },
  {
   "cell_type": "code",
   "execution_count": 133,
   "metadata": {
    "collapsed": false
   },
   "outputs": [
    {
     "data": {
      "image/png": "[encoded data removed]",
      "text/plain": [
       "<matplotlib.figure.Figure at 0x21480836710>"
      ]
     },
     "metadata": {},
     "output_type": "display_data"
    }
   ],
   "source": [
    "plot = plt.hist(dfcinquenta, bins = 100)"
   ]
  },
  {
   "cell_type": "markdown",
   "metadata": {
    "collapsed": true
   },
   "source": [
    "___\n",
    "## Estudo da Distribuição de  $\\frac{\\bar{X}-\\mu}{\\sigma\\hspace{1mm}/\\sqrt{n}}$  e de $\\frac{\\bar{X}-\\mu}{S\\hspace{1mm}/\\sqrt{n}}$ via SIMULAÇÃO"
   ]
  },
  {
   "cell_type": "code",
   "execution_count": null,
   "metadata": {
    "collapsed": true
   },
   "outputs": [],
   "source": []
  },
  {
   "cell_type": "code",
   "execution_count": null,
   "metadata": {
    "collapsed": true
   },
   "outputs": [],
   "source": []
  },
  {
   "cell_type": "code",
   "execution_count": null,
   "metadata": {
    "collapsed": true
   },
   "outputs": [],
   "source": []
  },
  {
   "cell_type": "code",
   "execution_count": null,
   "metadata": {
    "collapsed": true
   },
   "outputs": [],
   "source": []
  },
  {
   "cell_type": "code",
   "execution_count": null,
   "metadata": {
    "collapsed": true
   },
   "outputs": [],
   "source": []
  }
 ],
 "metadata": {
  "anaconda-cloud": {},
  "kernelspec": {
   "display_name": "Python 3",
   "language": "python",
   "name": "python3"
  },
  "language_info": {
   "codemirror_mode": {
    "name": "ipython",
    "version": 3
   },
   "file_extension": ".py",
   "mimetype": "text/x-python",
   "name": "python",
   "nbconvert_exporter": "python",
   "pygments_lexer": "ipython3",
   "version": "3.5.1"
  }
 },
 "nbformat": 4,
 "nbformat_minor": 0
}
