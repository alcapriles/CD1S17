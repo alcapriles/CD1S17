{
 "cells": [
  {
   "cell_type": "markdown",
   "metadata": {},
   "source": [
    "___\n",
    "# PROJETO 3\n",
    "### Entrega Final"
   ]
  },
  {
   "cell_type": "markdown",
   "metadata": {},
   "source": [
    "### Ana Capriles\n",
    "___"
   ]
  },
  {
   "cell_type": "markdown",
   "metadata": {},
   "source": [
    "Neste projeto, será feito um estudo da distribuição da média amostral com o objetivo de verificar o Teorema do Limite\n",
    "Central (TLC)."
   ]
  },
  {
   "cell_type": "code",
   "execution_count": 2,
   "metadata": {
    "collapsed": true
   },
   "outputs": [],
   "source": [
    "%matplotlib inline\n",
    "import pandas as pd\n",
    "import matplotlib.pyplot as plt\n",
    "import numpy as np\n",
    "from scipy import stats"
   ]
  },
  {
   "cell_type": "markdown",
   "metadata": {},
   "source": [
    "A distribuição teórica escolhida pelo grupo foi a lognormal."
   ]
  },
  {
   "cell_type": "code",
   "execution_count": 3,
   "metadata": {
    "collapsed": false
   },
   "outputs": [
    {
     "data": {
      "text/plain": [
       "0.36430803037530191"
      ]
     },
     "execution_count": 3,
     "metadata": {},
     "output_type": "execute_result"
    }
   ],
   "source": [
    "distribuicao_lognorm = stats.lognorm.rvs(0.5, loc=0, scale= 1, size=1000000)\n",
    "distribuicao_lognorm.mean()\n",
    "distribuicao_lognorm.var()"
   ]
  },
  {
   "cell_type": "markdown",
   "metadata": {},
   "source": [
    "A média da distribuição gerada pelo Python é 1.13 e a variância é 0.36."
   ]
  },
  {
   "cell_type": "markdown",
   "metadata": {},
   "source": [
    "Inicialmente, vamos gerar grupos aleatórios de 2 elementos, calcular a média amostral de cada grupo, e em seguida, a média \n",
    "amostral das médias amostrais de cada grupo e sua variância."
   ]
  },
  {
   "cell_type": "markdown",
   "metadata": {},
   "source": [
    "### n = 2"
   ]
  },
  {
   "cell_type": "code",
   "execution_count": 4,
   "metadata": {
    "collapsed": false
   },
   "outputs": [
    {
     "name": "stdout",
     "output_type": "stream",
     "text": [
      "Média amostral:0.8492336994988943\n",
      "Média das médias amostrais:1.1338765653019385\n",
      "Variância das médias amostrais:0.17723890164444364\n"
     ]
    },
    {
     "data": {
      "image/png": "[encoded data removed]",
      "text/plain": [
       "<matplotlib.figure.Figure at 0x1b48e010630>"
      ]
     },
     "metadata": {},
     "output_type": "display_data"
    }
   ],
   "source": [
    "def tlc(n):\n",
    "    amostras = np.random.choice(distribuicao_lognorm,n)\n",
    "    media_amostral = amostras.mean()\n",
    "    print(\"Média amostral:{}\".format(media_amostral))\n",
    "    media_media_amostral = 0\n",
    "    medias_amostrais = []\n",
    "    for i in range(10000):\n",
    "        amostras = np.random.choice(distribuicao_lognorm,n)\n",
    "        media_amostral = amostras.mean()\n",
    "        medias_amostrais.append(media_amostral)\n",
    "        media_media_amostral += media_amostral\n",
    "    media_media_amostral = (media_media_amostral/10000)\n",
    "    print(\"Média das médias amostrais:{}\".format(media_media_amostral))\n",
    "    \n",
    "    medias_amostrais = np.array(medias_amostrais)\n",
    "    var_medias_amostrais = medias_amostrais.var()\n",
    "    print(\"Variância das médias amostrais:{}\".format(var_medias_amostrais))\n",
    "    \n",
    "    datalog2 = pd.Series(medias_amostrais)\n",
    "    #a = 0\n",
    "    #if (n == 2) or (n == 4):\n",
    "    #    a = 120\n",
    "    #else:\n",
    "    #    a = n\n",
    "    hist2 = datalog2.plot(kind=\"hist\", bins = 120, normed=True)\n",
    "    plt.title(\"Distribuição da Média Amostral\")\n",
    "    plt.xlim((0,8))\n",
    "    plt.ylim((0,3))\n",
    "    \n",
    "tlc(2)"
   ]
  },
  {
   "cell_type": "markdown",
   "metadata": {},
   "source": [
    "Interpretação dos resultados: De acordo com o teorema do limite central, a média das médias amostrais é equivalente à média teórica. No entanto, a variância é equivalente à variância teórica dividida pelo número de amostras."
   ]
  },
  {
   "cell_type": "code",
   "execution_count": 5,
   "metadata": {
    "collapsed": false
   },
   "outputs": [
    {
     "name": "stdout",
     "output_type": "stream",
     "text": [
      "Média amostral:1.1355431225712487\n",
      "Média das médias amostrais:1.130393557754093\n",
      "Variância das médias amostrais:0.08777049680872039\n"
     ]
    },
    {
     "data": {
      "image/png": "[encoded data removed]",
      "text/plain": [
       "<matplotlib.figure.Figure at 0x1b48e0e5e80>"
      ]
     },
     "metadata": {},
     "output_type": "display_data"
    }
   ],
   "source": [
    "tlc(4)"
   ]
  },
  {
   "cell_type": "code",
   "execution_count": 6,
   "metadata": {
    "collapsed": false
   },
   "outputs": [
    {
     "name": "stdout",
     "output_type": "stream",
     "text": [
      "Média amostral:1.1439687906217837\n",
      "Média das médias amostrais:1.132887035074639\n",
      "Variância das médias amostrais:0.01857582256732341\n"
     ]
    },
    {
     "data": {
      "image/png": "[encoded data removed]",
      "text/plain": [
       "<matplotlib.figure.Figure at 0x1b48ee0f2b0>"
      ]
     },
     "metadata": {},
     "output_type": "display_data"
    }
   ],
   "source": [
    "tlc(20)"
   ]
  },
  {
   "cell_type": "code",
   "execution_count": 7,
   "metadata": {
    "collapsed": false
   },
   "outputs": [
    {
     "name": "stdout",
     "output_type": "stream",
     "text": [
      "Média amostral:1.0965256452541023\n",
      "Média das médias amostrais:1.1334200690948535\n",
      "Variância das médias amostrais:0.007348812994238607\n"
     ]
    },
    {
     "data": {
      "image/png": "[encoded data removed]",
      "text/plain": [
       "<matplotlib.figure.Figure at 0x1b48ed8a6a0>"
      ]
     },
     "metadata": {},
     "output_type": "display_data"
    }
   ],
   "source": [
    "tlc(50)"
   ]
  },
  {
   "cell_type": "markdown",
   "metadata": {},
   "source": [
    "Conforme n aumenta (conforme selecionamos grupos que contém um maior número de elementos), a média amostral tende à média teórica, \n",
    "o que aparece nos gráficos acima. De acordo com o teorema do limite central, a distribuição da média amostral converge para uma \n",
    "distribuição normal com média μ e variância σ, o que também fica evidente nos gráficos conforme n é variado. "
   ]
  },
  {
   "cell_type": "markdown",
   "metadata": {},
   "source": [
    "### Análise da amostra aleatória"
   ]
  },
  {
   "cell_type": "code",
   "execution_count": 8,
   "metadata": {
    "collapsed": false,
    "scrolled": true
   },
   "outputs": [
    {
     "data": {
      "text/plain": [
       "<matplotlib.text.Text at 0x1b48e5100b8>"
      ]
     },
     "execution_count": 8,
     "metadata": {},
     "output_type": "execute_result"
    },
    {
     "data": {
      "image/png": "[encoded data removed]",
      "text/plain": [
       "<matplotlib.figure.Figure at 0x1b48e73d710>"
      ]
     },
     "metadata": {},
     "output_type": "display_data"
    }
   ],
   "source": [
    "n = 50\n",
    "x1x9amostras = np.random.choice(distribuicao_lognorm,n)\n",
    "lista_x1  = []\n",
    "lista_x9 = []\n",
    "\n",
    "for i in range(10000):\n",
    "    amostras = np.random.choice(distribuicao_lognorm,n)\n",
    "    lista_x1.append(amostras[0])\n",
    "    lista_x9.append(amostras[8])\n",
    "\n",
    "lista_x1 = np.array(lista_x1)\n",
    "lista_x9 = np.array(lista_x9)\n",
    "datalog1 = pd.Series(lista_x1)\n",
    "hist1 = datalog1.plot(kind=\"hist\", bins=120, normed=True)\n",
    "plt.xlim((0,8))\n",
    "plt.ylim((0,3))\n",
    "plt.title(\"Distribuição de X1\")\n",
    "\n",
    "#shape,loc1,scale1 = stats.lognorm.fit(lista_x1)\n",
    "#print(shape,loc1, scale1)\n",
    "#x = np.linspace(0, 17, 1000)\n",
    "#plt.plot(x, lognorm, 'r-', lw=5, color='red')"
   ]
  },
  {
   "cell_type": "code",
   "execution_count": 9,
   "metadata": {
    "collapsed": false
   },
   "outputs": [
    {
     "name": "stdout",
     "output_type": "stream",
     "text": [
      "0.503267297914 0.00236252161342 0.995513535632\n"
     ]
    },
    {
     "ename": "NameError",
     "evalue": "name 'lognorm' is not defined",
     "output_type": "error",
     "traceback": [
      "\u001b[1;31m---------------------------------------------------------------------------\u001b[0m",
      "\u001b[1;31mNameError\u001b[0m                                 Traceback (most recent call last)",
      "\u001b[1;32m<ipython-input-9-ca1a8654f3d2>\u001b[0m in \u001b[0;36m<module>\u001b[1;34m()\u001b[0m\n\u001b[0;32m      2\u001b[0m \u001b[0mprint\u001b[0m\u001b[1;33m(\u001b[0m\u001b[0mshape\u001b[0m\u001b[1;33m,\u001b[0m\u001b[0mloc1\u001b[0m\u001b[1;33m,\u001b[0m \u001b[0mscale1\u001b[0m\u001b[1;33m)\u001b[0m\u001b[1;33m\u001b[0m\u001b[0m\n\u001b[0;32m      3\u001b[0m \u001b[0mx\u001b[0m \u001b[1;33m=\u001b[0m \u001b[0mnp\u001b[0m\u001b[1;33m.\u001b[0m\u001b[0mlinspace\u001b[0m\u001b[1;33m(\u001b[0m\u001b[1;36m0\u001b[0m\u001b[1;33m,\u001b[0m \u001b[1;36m17\u001b[0m\u001b[1;33m,\u001b[0m \u001b[1;36m1000\u001b[0m\u001b[1;33m)\u001b[0m\u001b[1;33m\u001b[0m\u001b[0m\n\u001b[1;32m----> 4\u001b[1;33m \u001b[0mplt\u001b[0m\u001b[1;33m.\u001b[0m\u001b[0mplot\u001b[0m\u001b[1;33m(\u001b[0m\u001b[0mx\u001b[0m\u001b[1;33m,\u001b[0m \u001b[0mlognorm\u001b[0m\u001b[1;33m,\u001b[0m \u001b[1;34m'r-'\u001b[0m\u001b[1;33m,\u001b[0m \u001b[0mlw\u001b[0m\u001b[1;33m=\u001b[0m\u001b[1;36m5\u001b[0m\u001b[1;33m,\u001b[0m \u001b[0mcolor\u001b[0m\u001b[1;33m=\u001b[0m\u001b[1;34m'red'\u001b[0m\u001b[1;33m)\u001b[0m\u001b[1;33m\u001b[0m\u001b[0m\n\u001b[0m",
      "\u001b[1;31mNameError\u001b[0m: name 'lognorm' is not defined"
     ]
    }
   ],
   "source": [
    "shape,loc1,scale1 = stats.lognorm.fit(lista_x1)\n",
    "print(shape,loc1, scale1)\n",
    "x = np.linspace(0, 17, 1000)\n",
    "plt.plot(x, lognorm, 'r-', lw=5, color='red')"
   ]
  },
  {
   "cell_type": "code",
   "execution_count": null,
   "metadata": {
    "collapsed": false
   },
   "outputs": [],
   "source": [
    "datalog9 = pd.Series(lista_x9)\n",
    "hist9 = datalog9.plot(kind=\"hist\", bins=120, normed=True)\n",
    "plt.xlim((0,8))\n",
    "plt.ylim((0,3))\n",
    "plt.title(\"Distribuição de X9\")"
   ]
  },
  {
   "cell_type": "markdown",
   "metadata": {},
   "source": [
    "Observa-se pelo formato dos gráficos que também correspondem a distribuições lognormais, da mesma forma que distribuição inicial \n",
    "escolhida (item 1)."
   ]
  },
  {
   "cell_type": "code",
   "execution_count": null,
   "metadata": {
    "collapsed": false
   },
   "outputs": [],
   "source": [
    "#item v\n",
    "corr = stats.pearsonr(lista_x1, lista_x9)\n",
    "# o primeiro valor retornado é o coeficiente de correlação\n",
    "\n",
    "print(\"Correlação entre x1 e x9:{}\".format(corr[0]))"
   ]
  },
  {
   "cell_type": "markdown",
   "metadata": {},
   "source": [
    "A correlação entre X1 e X9 é igual a -0.0001, o que indica ausência de correlação linear entre ambas. Assim X1 e X9 são \n",
    "independentes."
   ]
  },
  {
   "cell_type": "markdown",
   "metadata": {},
   "source": [
    "### Conclusão"
   ]
  },
  {
   "cell_type": "markdown",
   "metadata": {},
   "source": [
    "De acordo com o teorema do limite central, para uma amostra aleatória retirada de uma população cuja variável de interesse X\n",
    "tem média μ e variância σ, então a distribuição da média amostral (X̅) converge para uma distribuição normal com média μ e \n",
    "variância σ. Dividimos a amostra em grupos de n elementos, e quando n tende ao infinito, a distribuição tende à normal. Até o caso\n",
    "n = 50, o gráfico ainda não é uma normal \"perfeita\".\n",
    "O que é mais importante ainda é perceber que conforme n aumenta (conforme selecionamos grupos que contém um maior número de \n",
    "elementos), a média amostral tende à média teórica. No caso limite, n é o tamanho do dataset inteiro, e nesse caso tem-se a média\n",
    "simples. Por isso, a distribuição normal tende a \"afinar\", a ficar mais fina, e a se aproximar ao valor central conforme n aumenta."
   ]
  },
  {
   "cell_type": "markdown",
   "metadata": {},
   "source": [
    "___\n",
    "## Estudo da Distribuição de  $\\frac{\\bar{X}-\\mu}{\\sigma\\hspace{1mm}/\\sqrt{n}}$  e de $\\frac{\\bar{X}-\\mu}{S\\hspace{1mm}/\\sqrt{n}}$ via SIMULAÇÃO"
   ]
  },
  {
   "cell_type": "code",
   "execution_count": null,
   "metadata": {
    "collapsed": false
   },
   "outputs": [],
   "source": [
    "pop2 = stats.norm.rvs(loc=10, scale=2, size=1000000)\n",
    "mu = pop2.mean()\n",
    "sigma = pop2.var()\n",
    "print('Média da população:', mu)\n",
    "print('Variância da população:', sigma)"
   ]
  },
  {
   "cell_type": "code",
   "execution_count": null,
   "metadata": {
    "collapsed": false
   },
   "outputs": [],
   "source": [
    "def tlc2(n):\n",
    "    amostras = np.random.choice(distribuicao_lognorm,n)\n",
    "    media_amostral = amostras.mean()\n",
    "    print(\"Média amostral:{}\".format(media_amostral))\n",
    "    media_media_amostral = 0\n",
    "    medias_amostrais = []\n",
    "    for i in range(10000):\n",
    "        amostras = np.random.choice(distribuicao_lognorm,n)\n",
    "        media_amostral = amostras.mean()\n",
    "        medias_amostrais.append(media_amostral)\n",
    "        media_media_amostral += media_amostral\n",
    "    media_media_amostral = (media_media_amostral/10000)\n",
    "    print(\"Média das médias amostrais:{}\".format(media_media_amostral))\n",
    "    \n",
    "    medias_amostrais = np.array(medias_amostrais)\n",
    "    var_medias_amostrais = medias_amostrais.var()\n",
    "    print(\"Variância das médias amostrais:{}\".format(var_medias_amostrais))\n",
    "    \n",
    "    datalog2 = pd.Series(medias_amostrais)\n",
    "    #a = 0\n",
    "    #if (n == 2) or (n == 4):\n",
    "    #    a = 120\n",
    "    #else:\n",
    "    #    a = n\n",
    "    hist2 = datalog2.plot(kind=\"hist\", bins = 120, normed=True)\n",
    "    plt.title(\"Distribuição da Média Amostral\")\n",
    "    plt.xlim((0,8))\n",
    "    plt.ylim((0,3))\n",
    "    \n",
    "tlc2(4)"
   ]
  }
 ],
 "metadata": {
  "anaconda-cloud": {},
  "kernelspec": {
   "display_name": "Python 3",
   "language": "python",
   "name": "python3"
  },
  "language_info": {
   "codemirror_mode": {
    "name": "ipython",
    "version": 3
   },
   "file_extension": ".py",
   "mimetype": "text/x-python",
   "name": "python",
   "nbconvert_exporter": "python",
   "pygments_lexer": "ipython3",
   "version": "3.5.1"
  }
 },
 "nbformat": 4,
 "nbformat_minor": 0
}
