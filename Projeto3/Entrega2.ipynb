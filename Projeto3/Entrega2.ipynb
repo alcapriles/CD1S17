{
 "cells": [
  {
   "cell_type": "markdown",
   "metadata": {},
   "source": [
    "___\n",
    "# PROJETO 3\n",
    "### Entrega 2"
   ]
  },
  {
   "cell_type": "markdown",
   "metadata": {},
   "source": [
    "### Ana Capriles\n",
    "___"
   ]
  },
  {
   "cell_type": "markdown",
   "metadata": {},
   "source": [
    "O objetivo deste projeto é compreender e explicar o resultado do\n",
    "Teorema do Limite Central (TLC) por meio de simulação, uma vez que a demonstração\n",
    "teórica requer conhecimento de outras teorias avançadas, fugindo ao escopo do curso."
   ]
  },
  {
   "cell_type": "markdown",
   "metadata": {},
   "source": [
    "O enunciado do Teorema do Limite Central consiste no seguinte: \n",
    "Para uma amostra aleatória (X1, … , Xn) retirada de uma população cuja variável de interesse X tem média μ e variância $${σ^2}$$ então a distribuição \n",
    "da média amostral (X̅) se aproxima de uma distribuição normal com média μ e variância $${σ^2}/n$$ quando n tende ao infinito (suficientemente grande)."
   ]
  },
  {
   "cell_type": "code",
   "execution_count": 1,
   "metadata": {
    "collapsed": false
   },
   "outputs": [],
   "source": [
    "%matplotlib inline\n",
    "import pandas as pd\n",
    "import matplotlib.pyplot as plt\n",
    "import numpy as np\n",
    "import os\n",
    "from scipy import stats"
   ]
  },
  {
   "cell_type": "markdown",
   "metadata": {
    "collapsed": true
   },
   "source": [
    "A distribuição teórica empregada para a simulação será a distribuição Erlang, desenvolvida por Agner Krarup Erlang para analisar \n",
    "o número de chamadas telefônicas que poderiam ser feitas simultaneamente aos operadores das estações de comutação. \n",
    "Atualmente esta distribuição é utilizada em várias áreas que aplicam processos estocásticos (família de variáveis aleatórias \n",
    "representando a evolução de um sistema de valores com o tempo)."
   ]
  },
  {
   "cell_type": "markdown",
   "metadata": {},
   "source": [
    "Será sorteado aleatoriamente um número muito grande de valores da distribuição Erlang, por meio do método rvs. Esses valores gerados \n",
    "irão a população. "
   ]
  },
  {
   "cell_type": "code",
   "execution_count": 2,
   "metadata": {
    "collapsed": false
   },
   "outputs": [
    {
     "name": "stdout",
     "output_type": "stream",
     "text": [
      "Média da população: 503.995957138\n",
      "Variância da população: 7.95713498237\n"
     ]
    }
   ],
   "source": [
    "pop = stats.erlang.rvs(2, loc=500, scale= 2, size=1000000)\n",
    "mu = pop.mean()\n",
    "sigma = pop.var()\n",
    "print('Média da população:', mu)\n",
    "print('Variância da população:', sigma)"
   ]
  },
  {
   "cell_type": "markdown",
   "metadata": {},
   "source": [
    "Histograma da distribuição:"
   ]
  },
  {
   "cell_type": "code",
   "execution_count": 3,
   "metadata": {
    "collapsed": false
   },
   "outputs": [
    {
     "data": {
      "image/png": "[encoded data removed]",
      "text/plain": [
       "<matplotlib.figure.Figure at 0x2d7cd9f5240>"
      ]
     },
     "metadata": {},
     "output_type": "display_data"
    }
   ],
   "source": [
    "plot = plt.hist(pop, bins = 500)"
   ]
  },
  {
   "cell_type": "markdown",
   "metadata": {},
   "source": [
    "___\n",
    "## Estudo da Distribuição da Média Amostral  $\\bar{X}$  via SIMULAÇÃO"
   ]
  },
  {
   "cell_type": "code",
   "execution_count": 5,
   "metadata": {
    "collapsed": false
   },
   "outputs": [],
   "source": [
    "#distribuição da média amostral:\n",
    "def mediaAmostral(n, m):\n",
    "    k = []\n",
    "    for i in range(m):\n",
    "        l = []\n",
    "        for i in range(n):\n",
    "            l.append(np.random.choice(pop, replace=True))\n",
    "        k.append(l)\n",
    "    \n",
    "    return l\n"
   ]
  },
  {
   "cell_type": "code",
   "execution_count": 6,
   "metadata": {
    "collapsed": false
   },
   "outputs": [
    {
     "name": "stdout",
     "output_type": "stream",
     "text": [
      "Média: 502.354675403\n"
     ]
    }
   ],
   "source": [
    "dois = mediaAmostral(2)\n",
    "print('Média:', sum(dois)/len(dois))"
   ]
  },
  {
   "cell_type": "code",
   "execution_count": null,
   "metadata": {
    "collapsed": true
   },
   "outputs": [],
   "source": []
  },
  {
   "cell_type": "markdown",
   "metadata": {
    "collapsed": true
   },
   "source": [
    "___\n",
    "## Estudo da Distribuição de  $\\frac{\\bar{X}-\\mu}{\\sigma\\hspace{1mm}/\\sqrt{n}}$  e de $\\frac{\\bar{X}-\\mu}{S\\hspace{1mm}/\\sqrt{n}}$ via SIMULAÇÃO"
   ]
  },
  {
   "cell_type": "code",
   "execution_count": null,
   "metadata": {
    "collapsed": true
   },
   "outputs": [],
   "source": []
  },
  {
   "cell_type": "code",
   "execution_count": null,
   "metadata": {
    "collapsed": true
   },
   "outputs": [],
   "source": []
  },
  {
   "cell_type": "code",
   "execution_count": null,
   "metadata": {
    "collapsed": true
   },
   "outputs": [],
   "source": []
  },
  {
   "cell_type": "code",
   "execution_count": null,
   "metadata": {
    "collapsed": true
   },
   "outputs": [],
   "source": []
  }
 ],
 "metadata": {
  "anaconda-cloud": {},
  "kernelspec": {
   "display_name": "Python 3",
   "language": "python",
   "name": "python3"
  },
  "language_info": {
   "codemirror_mode": {
    "name": "ipython",
    "version": 3
   },
   "file_extension": ".py",
   "mimetype": "text/x-python",
   "name": "python",
   "nbconvert_exporter": "python",
   "pygments_lexer": "ipython3",
   "version": "3.5.1"
  }
 },
 "nbformat": 4,
 "nbformat_minor": 0
}
