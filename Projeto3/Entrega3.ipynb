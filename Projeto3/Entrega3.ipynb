{
 "cells": [
  {
   "cell_type": "markdown",
   "metadata": {},
   "source": [
    "___\n",
    "# PROJETO 3\n",
    "### Entrega Final"
   ]
  },
  {
   "cell_type": "markdown",
   "metadata": {},
   "source": [
    "### Ana Capriles\n",
    "___"
   ]
  },
  {
   "cell_type": "markdown",
   "metadata": {},
   "source": [
    "Neste miniprojeto, será feito um estudo da distribuição da média amostral com o objetivo de verificar o Teorema do Limite\n",
    "Central (TLC)."
   ]
  },
  {
   "cell_type": "code",
   "execution_count": 1,
   "metadata": {
    "collapsed": true
   },
   "outputs": [],
   "source": [
    "%matplotlib inline\n",
    "import pandas as pd\n",
    "import matplotlib.pyplot as plt\n",
    "import numpy as np\n",
    "from scipy import stats"
   ]
  },
  {
   "cell_type": "markdown",
   "metadata": {},
   "source": [
    "A distribuição teórica escolhida pelo grupo foi a lognormal."
   ]
  },
  {
   "cell_type": "code",
   "execution_count": 2,
   "metadata": {
    "collapsed": false
   },
   "outputs": [
    {
     "data": {
      "text/plain": [
       "0.36513278754238843"
      ]
     },
     "execution_count": 2,
     "metadata": {},
     "output_type": "execute_result"
    }
   ],
   "source": [
    "distribuicao_lognorm = stats.lognorm.rvs(0.5, loc=0, scale= 1, size=1000000)\n",
    "distribuicao_lognorm.mean()\n",
    "distribuicao_lognorm.var()"
   ]
  },
  {
   "cell_type": "markdown",
   "metadata": {},
   "source": [
    "A média da distribuição gerada pelo Python é 1.13 e a variância é 0.36."
   ]
  },
  {
   "cell_type": "markdown",
   "metadata": {},
   "source": [
    "Inicialmente, vamos gerar grupos aleatórios de 2 elementos, calcular a média amostral de cada grupo, e em seguida, a média \n",
    "amostral das médias amostrais de cada grupo e sua variância."
   ]
  },
  {
   "cell_type": "markdown",
   "metadata": {},
   "source": [
    "### n = 2"
   ]
  },
  {
   "cell_type": "code",
   "execution_count": 3,
   "metadata": {
    "collapsed": false
   },
   "outputs": [
    {
     "name": "stdout",
     "output_type": "stream",
     "text": [
      "Média amostral:2.030764337276019\n",
      "Média das médias amostrais:1.1424406431500091\n",
      "Variância das médias amostrais:0.18436443331757668\n"
     ]
    },
    {
     "data": {
      "image/png": "[encoded data removed]",
      "text/plain": [
       "<matplotlib.figure.Figure at 0x23d6e19ebe0>"
      ]
     },
     "metadata": {},
     "output_type": "display_data"
    }
   ],
   "source": [
    "def tlc(n):\n",
    "    amostras = np.random.choice(distribuicao_lognorm,n)\n",
    "    media_amostral = amostras.mean()\n",
    "    print(\"Média amostral:{}\".format(media_amostral))\n",
    "    media_media_amostral = 0\n",
    "    medias_amostrais = []\n",
    "    for i in range(10000):\n",
    "        amostras = np.random.choice(distribuicao_lognorm,n)\n",
    "        media_amostral = amostras.mean()\n",
    "        medias_amostrais.append(media_amostral)\n",
    "        media_media_amostral += media_amostral\n",
    "    media_media_amostral = (media_media_amostral/10000)\n",
    "    print(\"Média das médias amostrais:{}\".format(media_media_amostral))\n",
    "    \n",
    "    medias_amostrais = np.array(medias_amostrais)\n",
    "    var_medias_amostrais = medias_amostrais.var()\n",
    "    print(\"Variância das médias amostrais:{}\".format(var_medias_amostrais))\n",
    "    \n",
    "    datalog2 = pd.Series(medias_amostrais)\n",
    "    #a = 0\n",
    "    #if (n == 2) or (n == 4):\n",
    "    #    a = 120\n",
    "    #else:\n",
    "    #    a = n\n",
    "    hist2 = datalog2.plot(kind=\"hist\", bins = 120, normed=True)\n",
    "    plt.title(\"Distribuição da Média Amostral\")\n",
    "    plt.xlim((0,8))\n",
    "    plt.ylim((0,3))\n",
    "    \n",
    "tlc(2)"
   ]
  },
  {
   "cell_type": "markdown",
   "metadata": {},
   "source": [
    "Interpretação dos resultados: De acordo com o teorema do limite central, a média das médias amostrais é equivalente à média teórica. No entanto, a variância é equivalente à variância teórica dividida pelo número de amostras."
   ]
  },
  {
   "cell_type": "code",
   "execution_count": 4,
   "metadata": {
    "collapsed": false
   },
   "outputs": [
    {
     "name": "stdout",
     "output_type": "stream",
     "text": [
      "Média amostral:1.3864225709359483\n",
      "Média das médias amostrais:1.134764592263596\n",
      "Variância das médias amostrais:0.09481364315099122\n"
     ]
    },
    {
     "data": {
      "image/png": "[encoded data removed]",
      "text/plain": [
       "<matplotlib.figure.Figure at 0x23d6e32ffd0>"
      ]
     },
     "metadata": {},
     "output_type": "display_data"
    }
   ],
   "source": [
    "tlc(4)"
   ]
  },
  {
   "cell_type": "code",
   "execution_count": 5,
   "metadata": {
    "collapsed": false
   },
   "outputs": [
    {
     "name": "stdout",
     "output_type": "stream",
     "text": [
      "Média amostral:1.2652848933958878\n",
      "Média das médias amostrais:1.135925485652161\n",
      "Variância das médias amostrais:0.017823386307456373\n"
     ]
    },
    {
     "data": {
      "image/png": "[encoded data removed]",
      "text/plain": [
       "<matplotlib.figure.Figure at 0x23d6f08ee48>"
      ]
     },
     "metadata": {},
     "output_type": "display_data"
    }
   ],
   "source": [
    "tlc(20)"
   ]
  },
  {
   "cell_type": "code",
   "execution_count": 6,
   "metadata": {
    "collapsed": false
   },
   "outputs": [
    {
     "name": "stdout",
     "output_type": "stream",
     "text": [
      "Média amostral:1.131053282855589\n",
      "Média das médias amostrais:1.1323381169242785\n",
      "Variância das médias amostrais:0.007372735737864415\n"
     ]
    },
    {
     "data": {
      "image/png": "[encoded data removed]",
      "text/plain": [
       "<matplotlib.figure.Figure at 0x23d6f0408d0>"
      ]
     },
     "metadata": {},
     "output_type": "display_data"
    }
   ],
   "source": [
    "tlc(50)"
   ]
  },
  {
   "cell_type": "markdown",
   "metadata": {},
   "source": [
    "Conforme n aumenta (conforme selecionamos grupos que contém um maior número de elementos), a média amostral tende à média teórica, \n",
    "o que aparece nos gráficos acima. De acordo com o teorema do limite central, a distribuição da média amostral converge para uma \n",
    "distribuição normal com média μ e variância σ, o que também fica evidente nos gráficos conforme n é variado. "
   ]
  },
  {
   "cell_type": "markdown",
   "metadata": {},
   "source": [
    "### Análise da amostra aleatória"
   ]
  },
  {
   "cell_type": "code",
   "execution_count": 24,
   "metadata": {
    "collapsed": false,
    "scrolled": true
   },
   "outputs": [
    {
     "data": {
      "text/plain": [
       "<matplotlib.text.Text at 0x23d733936d8>"
      ]
     },
     "execution_count": 24,
     "metadata": {},
     "output_type": "execute_result"
    },
    {
     "data": {
      "image/png": "[encoded data removed]",
      "text/plain": [
       "<matplotlib.figure.Figure at 0x23d731bce80>"
      ]
     },
     "metadata": {},
     "output_type": "display_data"
    }
   ],
   "source": [
    "x1x9amostras = np.random.choice(distribuicao_lognorm,n)\n",
    "lista_x1  = []\n",
    "lista_x9 = []\n",
    "\n",
    "for i in range(10000):\n",
    "    amostras = np.random.choice(distribuicao_lognorm,n)\n",
    "    lista_x1.append(amostras[0])\n",
    "    lista_x9.append(amostras[8])\n",
    "\n",
    "lista_x1 = np.array(lista_x1)\n",
    "lista_x9 = np.array(lista_x9)\n",
    "datalog1 = pd.Series(lista_x1)\n",
    "hist1 = datalog1.plot(kind=\"hist\", bins=120, normed=True)\n",
    "plt.xlim((0,8))\n",
    "plt.ylim((0,3))\n",
    "plt.title(\"Distribuição de X1\")\n",
    "\n",
    "#shape,loc1,scale1 = stats.lognorm.fit(lista_x1)\n",
    "#print(shape,loc1, scale1)\n",
    "#x = np.linspace(0, 17, 1000)\n",
    "#plt.plot(x, lognorm, 'r-', lw=5, color='red')"
   ]
  },
  {
   "cell_type": "code",
   "execution_count": 22,
   "metadata": {
    "collapsed": false
   },
   "outputs": [
    {
     "name": "stdout",
     "output_type": "stream",
     "text": [
      "0.49732269098 0.000667606968224 1.00388270674\n"
     ]
    }
   ],
   "source": [
    "shape,loc1,scale1 = stats.lognorm.fit(lista_x1)\n",
    "print(shape,loc1, scale1)\n",
    "x = np.linspace(0, 17, 1000)\n",
    "plt.plot(x, lognorm, 'r-', lw=5, color='red')"
   ]
  },
  {
   "cell_type": "code",
   "execution_count": 16,
   "metadata": {
    "collapsed": false
   },
   "outputs": [
    {
     "data": {
      "text/plain": [
       "<matplotlib.text.Text at 0x23d7110c978>"
      ]
     },
     "execution_count": 16,
     "metadata": {},
     "output_type": "execute_result"
    },
    {
     "data": {
      "image/png": "[encoded data removed]",
      "text/plain": [
       "<matplotlib.figure.Figure at 0x23d71173358>"
      ]
     },
     "metadata": {},
     "output_type": "display_data"
    }
   ],
   "source": [
    "datalog9 = pd.Series(lista_x9)\n",
    "hist9 = datalog9.plot(kind=\"hist\", bins=120, normed=True)\n",
    "plt.xlim((0,8))\n",
    "plt.ylim((0,3))\n",
    "plt.title(\"Distribuição de X9\")"
   ]
  },
  {
   "cell_type": "markdown",
   "metadata": {},
   "source": [
    "Observa-se pelo formato dos gráficos que também correspondem a distribuições lognormais, da mesma forma que distribuição inicial \n",
    "escolhida (item 1)."
   ]
  },
  {
   "cell_type": "code",
   "execution_count": 12,
   "metadata": {
    "collapsed": false
   },
   "outputs": [
    {
     "name": "stdout",
     "output_type": "stream",
     "text": [
      "Correlação entre x1 e x9:-0.00013158899801711624\n"
     ]
    }
   ],
   "source": [
    "#item v\n",
    "corr = stats.pearsonr(lista_x1, lista_x9)\n",
    "# o primeiro valor retornado é o coeficiente de correlação\n",
    "\n",
    "print(\"Correlação entre x1 e x9:{}\".format(corr[0]))"
   ]
  },
  {
   "cell_type": "markdown",
   "metadata": {},
   "source": [
    "A correlação entre X1 e X9 é igual a -0.0001, o que indica ausência de correlação linear entre ambas. Assim X1 e X9 são \n",
    "independentes."
   ]
  },
  {
   "cell_type": "markdown",
   "metadata": {},
   "source": [
    "### Conclusão"
   ]
  },
  {
   "cell_type": "markdown",
   "metadata": {},
   "source": [
    "De acordo com o teorema do limite central, para uma amostra aleatória retirada de uma população cuja variável de interesse X\n",
    "tem média μ e variância σ, então a distribuição da média amostral (X̅) converge para uma distribuição normal com média μ e \n",
    "variância σ. Dividimos a amostra em grupos de n elementos, e quando n tende ao infinito, a distribuição tende à normal. Até o caso\n",
    "n = 50, o gráfico ainda não é uma normal \"perfeita\".\n",
    "O que é mais importante ainda é perceber que conforme n aumenta (conforme selecionamos grupos que contém um maior número de \n",
    "elementos), a média amostral tende à média teórica. No caso limite, n é o tamanho do dataset inteiro, e nesse caso tem-se a média\n",
    "simples. Por isso, a distribuição normal tende a \"afinar\", a ficar mais fina, e a se aproximar ao valor central conforme n aumenta."
   ]
  }
 ],
 "metadata": {
  "anaconda-cloud": {},
  "kernelspec": {
   "display_name": "Python 3",
   "language": "python",
   "name": "python3"
  },
  "language_info": {
   "codemirror_mode": {
    "name": "ipython",
    "version": 3
   },
   "file_extension": ".py",
   "mimetype": "text/x-python",
   "name": "python",
   "nbconvert_exporter": "python",
   "pygments_lexer": "ipython3",
   "version": "3.5.1"
  }
 },
 "nbformat": 4,
 "nbformat_minor": 0
}
