{
 "cells": [
  {
   "cell_type": "markdown",
   "metadata": {},
   "source": [
    "___\n",
    "# PROJETO 3\n",
    "### Entrega Final"
   ]
  },
  {
   "cell_type": "markdown",
   "metadata": {},
   "source": [
    "### Ana Capriles\n",
    "___"
   ]
  },
  {
   "cell_type": "markdown",
   "metadata": {},
   "source": [
    "O objetivo deste projeto é compreender e explicar o resultado do\n",
    "Teorema do Limite Central (TLC) por meio de simulação, uma vez que a demonstração\n",
    "teórica requer conhecimento de outras teorias avançadas, fugindo ao escopo do curso."
   ]
  },
  {
   "cell_type": "markdown",
   "metadata": {},
   "source": [
    "O enunciado do Teorema do Limite Central consiste no seguinte: \n",
    "Para uma amostra aleatória (X1, … , Xn) retirada de uma população cuja variável de interesse X tem média μ e variância $${σ^2}$$ então a distribuição \n",
    "da média amostral (X̅) se aproxima de uma distribuição normal com média μ e variância $${σ^2}/n$$ quando n tende ao infinito (suficientemente grande)."
   ]
  },
  {
   "cell_type": "code",
   "execution_count": 27,
   "metadata": {
    "collapsed": false
   },
   "outputs": [],
   "source": [
    "%matplotlib inline\n",
    "import pandas as pd\n",
    "import matplotlib.pyplot as plt\n",
    "import numpy as np\n",
    "import os\n",
    "from scipy import stats\n",
    "import math"
   ]
  },
  {
   "cell_type": "markdown",
   "metadata": {
    "collapsed": true
   },
   "source": [
    "A distribuição teórica empregada para a simulação será a distribuição Erlang, desenvolvida por Agner Krarup Erlang para analisar \n",
    "o número de chamadas telefônicas que poderiam ser feitas simultaneamente aos operadores das estações de comutação. \n",
    "Atualmente esta distribuição é utilizada em várias áreas que aplicam processos estocásticos (família de variáveis aleatórias \n",
    "representando a evolução de um sistema de valores com o tempo)."
   ]
  },
  {
   "cell_type": "markdown",
   "metadata": {},
   "source": [
    "Será sorteado aleatoriamente um número muito grande de valores da distribuição Erlang, por meio do método rvs. Esses valores gerados \n",
    "irão a população. "
   ]
  },
  {
   "cell_type": "code",
   "execution_count": 123,
   "metadata": {
    "collapsed": false
   },
   "outputs": [
    {
     "name": "stdout",
     "output_type": "stream",
     "text": [
      "Média da população: 1.13298112775\n",
      "Variância da população: 0.364474029714\n"
     ]
    }
   ],
   "source": [
    "pop = stats.lognorm.rvs(0.5, loc=0, scale= 1, size=1000000)\n",
    "mu = pop.mean()\n",
    "sigma = pop.var()\n",
    "print('Média da população:', mu)\n",
    "print('Variância da população:', sigma)"
   ]
  },
  {
   "cell_type": "markdown",
   "metadata": {},
   "source": [
    "Histograma da distribuição:"
   ]
  },
  {
   "cell_type": "code",
   "execution_count": 124,
   "metadata": {
    "collapsed": false
   },
   "outputs": [
    {
     "data": {
      "image/png": "[encoded data removed]",
      "text/plain": [
       "<matplotlib.figure.Figure at 0x21482bacc18>"
      ]
     },
     "metadata": {},
     "output_type": "display_data"
    }
   ],
   "source": [
    "plot = plt.hist(pop, bins = 500)"
   ]
  },
  {
   "cell_type": "markdown",
   "metadata": {},
   "source": [
    "___\n",
    "## Estudo da Distribuição da Média Amostral  $\\bar{X}$  via SIMULAÇÃO"
   ]
  },
  {
   "cell_type": "code",
   "execution_count": 144,
   "metadata": {
    "collapsed": false
   },
   "outputs": [],
   "source": [
    "#distribuição da média amostral:\n",
    "def mediaAmostral(m, n):\n",
    "    k = []\n",
    "    for i in range(m):\n",
    "        l = []\n",
    "        l.append(np.random.choice(pop,n))\n",
    "        k.append(sum(l)/len(l)) \n",
    "    return k"
   ]
  },
  {
   "cell_type": "markdown",
   "metadata": {},
   "source": [
    "### n = 2"
   ]
  },
  {
   "cell_type": "code",
   "execution_count": 146,
   "metadata": {
    "collapsed": false,
    "scrolled": true
   },
   "outputs": [
    {
     "name": "stdout",
     "output_type": "stream",
     "text": [
      "Média da população para n = 2: 0    1.135519\n",
      "1    1.135272\n",
      "dtype: float64\n",
      "Variância da população para n = 2: 0    0.368179\n",
      "1    0.373284\n",
      "dtype: float64\n"
     ]
    }
   ],
   "source": [
    "dois = mediaAmostral(10000, 2)\n",
    "dfdois = pd.DataFrame(dois)\n",
    "mu2 = dfdois.mean()\n",
    "sigma2 = dfdois.std()**2\n",
    "print('Média da população para n = 2:', mu2)\n",
    "print('Variância da população para n = 2:', sigma2)"
   ]
  },
  {
   "cell_type": "code",
   "execution_count": 147,
   "metadata": {
    "collapsed": false
   },
   "outputs": [
    {
     "data": {
      "image/png": "[encoded data removed]",
      "text/plain": [
       "<matplotlib.figure.Figure at 0x21480788240>"
      ]
     },
     "metadata": {},
     "output_type": "display_data"
    }
   ],
   "source": [
    "plot = plt.hist(dfdois, bins = 100)"
   ]
  },
  {
   "cell_type": "markdown",
   "metadata": {},
   "source": [
    "### n = 4"
   ]
  },
  {
   "cell_type": "code",
   "execution_count": 149,
   "metadata": {
    "collapsed": false
   },
   "outputs": [
    {
     "name": "stdout",
     "output_type": "stream",
     "text": [
      "Média da população para n = 4: 0    1.134111\n",
      "1    1.140377\n",
      "2    1.138197\n",
      "3    1.134970\n",
      "dtype: float64\n",
      "Variância da população para n = 4: 0    0.367948\n",
      "1    0.377803\n",
      "2    0.375756\n",
      "3    0.367251\n",
      "dtype: float64\n"
     ]
    }
   ],
   "source": [
    "quatro = mediaAmostral(10000, 4)\n",
    "dfquatro = pd.DataFrame(quatro)\n",
    "mu4 = dfquatro.mean()\n",
    "sigma4 = dfquatro.std()**2\n",
    "print('Média da população para n = 4:', mu4)\n",
    "print('Variância da população para n = 4:', sigma4)"
   ]
  },
  {
   "cell_type": "code",
   "execution_count": 150,
   "metadata": {
    "collapsed": false
   },
   "outputs": [
    {
     "data": {
      "image/png": "[encoded data removed]",
      "text/plain": [
       "<matplotlib.figure.Figure at 0x2148070a278>"
      ]
     },
     "metadata": {},
     "output_type": "display_data"
    }
   ],
   "source": [
    "plot = plt.hist(dfquatro, bins = 100)"
   ]
  },
  {
   "cell_type": "markdown",
   "metadata": {},
   "source": [
    "### n = 20"
   ]
  },
  {
   "cell_type": "code",
   "execution_count": 151,
   "metadata": {
    "collapsed": false
   },
   "outputs": [
    {
     "name": "stdout",
     "output_type": "stream",
     "text": [
      "Média da população para n = 4: 0     1.144338\n",
      "1     1.138151\n",
      "2     1.125310\n",
      "3     1.127882\n",
      "4     1.129517\n",
      "5     1.130155\n",
      "6     1.134243\n",
      "7     1.129696\n",
      "8     1.138134\n",
      "9     1.138362\n",
      "10    1.125120\n",
      "11    1.131547\n",
      "12    1.119015\n",
      "13    1.128186\n",
      "14    1.138778\n",
      "15    1.136330\n",
      "16    1.140131\n",
      "17    1.141978\n",
      "18    1.137529\n",
      "19    1.129715\n",
      "dtype: float64\n",
      "Variância da população para n = 4: 0     0.382279\n",
      "1     0.362133\n",
      "2     0.369751\n",
      "3     0.357840\n",
      "4     0.359246\n",
      "5     0.346460\n",
      "6     0.362398\n",
      "7     0.339168\n",
      "8     0.370236\n",
      "9     0.370970\n",
      "10    0.355945\n",
      "11    0.361920\n",
      "12    0.352678\n",
      "13    0.352743\n",
      "14    0.359262\n",
      "15    0.360290\n",
      "16    0.363875\n",
      "17    0.377240\n",
      "18    0.364075\n",
      "19    0.348201\n",
      "dtype: float64\n"
     ]
    }
   ],
   "source": [
    "vinte = mediaAmostral(10000, 20)\n",
    "dfvinte = pd.DataFrame(vinte)\n",
    "mu20 = dfvinte.mean()\n",
    "sigma20 = dfvinte.std()**2\n",
    "print('Média da população para n = 4:', mu20)\n",
    "print('Variância da população para n = 4:', sigma20)"
   ]
  },
  {
   "cell_type": "code",
   "execution_count": 152,
   "metadata": {
    "collapsed": false
   },
   "outputs": [
    {
     "data": {
      "image/png": "[encoded data removed]",
      "text/plain": [
       "<matplotlib.figure.Figure at 0x21482bc5828>"
      ]
     },
     "metadata": {},
     "output_type": "display_data"
    }
   ],
   "source": [
    "plot = plt.hist(dfvinte, bins = 100)"
   ]
  },
  {
   "cell_type": "markdown",
   "metadata": {},
   "source": [
    "### n = 50"
   ]
  },
  {
   "cell_type": "code",
   "execution_count": 153,
   "metadata": {
    "collapsed": false
   },
   "outputs": [
    {
     "name": "stdout",
     "output_type": "stream",
     "text": [
      "Média da população para n = 4: 0     1.130745\n",
      "1     1.121114\n",
      "2     1.133849\n",
      "3     1.137022\n",
      "4     1.126506\n",
      "5     1.132355\n",
      "6     1.131830\n",
      "7     1.135764\n",
      "8     1.132724\n",
      "9     1.127991\n",
      "10    1.123383\n",
      "11    1.136167\n",
      "12    1.134326\n",
      "13    1.139740\n",
      "14    1.135445\n",
      "15    1.140892\n",
      "16    1.140904\n",
      "17    1.143369\n",
      "18    1.132213\n",
      "19    1.129043\n",
      "20    1.137833\n",
      "21    1.136637\n",
      "22    1.134086\n",
      "23    1.144852\n",
      "24    1.132086\n",
      "25    1.131358\n",
      "26    1.126734\n",
      "27    1.128212\n",
      "28    1.133155\n",
      "29    1.125386\n",
      "30    1.137195\n",
      "31    1.139576\n",
      "32    1.133142\n",
      "33    1.123629\n",
      "34    1.142616\n",
      "35    1.138977\n",
      "36    1.140571\n",
      "37    1.126224\n",
      "38    1.129842\n",
      "39    1.141039\n",
      "40    1.138440\n",
      "41    1.139059\n",
      "42    1.135450\n",
      "43    1.125892\n",
      "44    1.129176\n",
      "45    1.128410\n",
      "46    1.126872\n",
      "47    1.136219\n",
      "48    1.142065\n",
      "49    1.134303\n",
      "dtype: float64\n",
      "Variância da população para n = 4: 0     0.357113\n",
      "1     0.356073\n",
      "2     0.354476\n",
      "3     0.366080\n",
      "4     0.362667\n",
      "5     0.357460\n",
      "6     0.359330\n",
      "7     0.371587\n",
      "8     0.355460\n",
      "9     0.363352\n",
      "10    0.355493\n",
      "11    0.356763\n",
      "12    0.380911\n",
      "13    0.375110\n",
      "14    0.371946\n",
      "15    0.382339\n",
      "16    0.370763\n",
      "17    0.363074\n",
      "18    0.357916\n",
      "19    0.365774\n",
      "20    0.374043\n",
      "21    0.372245\n",
      "22    0.354498\n",
      "23    0.382812\n",
      "24    0.356594\n",
      "25    0.360081\n",
      "26    0.359980\n",
      "27    0.350983\n",
      "28    0.380689\n",
      "29    0.352762\n",
      "30    0.378561\n",
      "31    0.358373\n",
      "32    0.379057\n",
      "33    0.355307\n",
      "34    0.379858\n",
      "35    0.371983\n",
      "36    0.375536\n",
      "37    0.366604\n",
      "38    0.371632\n",
      "39    0.378829\n",
      "40    0.367498\n",
      "41    0.374093\n",
      "42    0.359885\n",
      "43    0.355241\n",
      "44    0.350539\n",
      "45    0.361345\n",
      "46    0.356764\n",
      "47    0.371918\n",
      "48    0.379142\n",
      "49    0.353219\n",
      "dtype: float64\n"
     ]
    }
   ],
   "source": [
    "cinquenta = mediaAmostral(10000, 50)\n",
    "dfcinquenta = pd.DataFrame(cinquenta)\n",
    "mu50 = dfcinquenta.mean()\n",
    "sigma50 = dfcinquenta.std()**2\n",
    "print('Média da população para n = 4:', mu50)\n",
    "print('Variância da população para n = 4:', sigma50)"
   ]
  },
  {
   "cell_type": "code",
   "execution_count": 154,
   "metadata": {
    "collapsed": false
   },
   "outputs": [
    {
     "data": {
      "image/png": "[encoded data removed]",
      "text/plain": [
       "<matplotlib.figure.Figure at 0x21482bf04a8>"
      ]
     },
     "metadata": {},
     "output_type": "display_data"
    }
   ],
   "source": [
    "plot = plt.hist(dfcinquenta, bins = 100)"
   ]
  },
  {
   "cell_type": "markdown",
   "metadata": {
    "collapsed": true
   },
   "source": [
    "___\n",
    "## Estudo da Distribuição de  $\\frac{\\bar{X}-\\mu}{\\sigma\\hspace{1mm}/\\sqrt{n}}$  e de $\\frac{\\bar{X}-\\mu}{S\\hspace{1mm}/\\sqrt{n}}$ via SIMULAÇÃO"
   ]
  },
  {
   "cell_type": "code",
   "execution_count": null,
   "metadata": {
    "collapsed": true
   },
   "outputs": [],
   "source": []
  },
  {
   "cell_type": "code",
   "execution_count": null,
   "metadata": {
    "collapsed": true
   },
   "outputs": [],
   "source": []
  },
  {
   "cell_type": "code",
   "execution_count": null,
   "metadata": {
    "collapsed": true
   },
   "outputs": [],
   "source": []
  },
  {
   "cell_type": "code",
   "execution_count": null,
   "metadata": {
    "collapsed": true
   },
   "outputs": [],
   "source": []
  },
  {
   "cell_type": "code",
   "execution_count": null,
   "metadata": {
    "collapsed": true
   },
   "outputs": [],
   "source": []
  }
 ],
 "metadata": {
  "anaconda-cloud": {},
  "kernelspec": {
   "display_name": "Python 3",
   "language": "python",
   "name": "python3"
  },
  "language_info": {
   "codemirror_mode": {
    "name": "ipython",
    "version": 3
   },
   "file_extension": ".py",
   "mimetype": "text/x-python",
   "name": "python",
   "nbconvert_exporter": "python",
   "pygments_lexer": "ipython3",
   "version": "3.5.1"
  }
 },
 "nbformat": 4,
 "nbformat_minor": 0
}
