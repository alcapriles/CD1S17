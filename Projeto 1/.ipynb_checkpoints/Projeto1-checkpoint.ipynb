{
 "cells": [
  {
   "cell_type": "markdown",
   "metadata": {},
   "source": [
    "___\n",
    "# PROJETO 1"
   ]
  },
  {
   "cell_type": "markdown",
   "metadata": {},
   "source": [
    "## Ana Capriles\n",
    "___"
   ]
  },
  {
   "cell_type": "markdown",
   "metadata": {},
   "source": [
    "## TÍTULO DO SEU PROJETO"
   ]
  },
  {
   "cell_type": "markdown",
   "metadata": {},
   "source": [
    "___\n",
    "## Introdução\n",
    "\n",
    "Descreva aqui o que pretende analisar!\n",
    "\n",
    "Capriche no português!! \n",
    "Se quiser pode utilizar pesquisas semelhantes publicadas em sites confiáveis!!\n"
   ]
  },
  {
   "cell_type": "markdown",
   "metadata": {},
   "source": [
    "___\n",
    "## Análise e Resultados"
   ]
  },
  {
   "cell_type": "code",
   "execution_count": 42,
   "metadata": {
    "collapsed": true
   },
   "outputs": [],
   "source": [
    "%matplotlib inline\n",
    "import pandas as pd\n",
    "import matplotlib.pyplot as plt\n",
    "import numpy as np"
   ]
  },
  {
   "cell_type": "code",
   "execution_count": 43,
   "metadata": {
    "collapsed": false
   },
   "outputs": [],
   "source": [
    "d15 = pd.read_csv('DOM2015.csv',sep=',')\n",
    "d14 = pd.read_csv('DOM2014.csv',sep=',')"
   ]
  },
  {
   "cell_type": "code",
   "execution_count": 50,
   "metadata": {
    "collapsed": false
   },
   "outputs": [],
   "source": [
    "#Seleção de variáveis\n",
    "dados15 = d15.loc[:,['UF', 'V0105', 'V0201', 'V0202', 'V0205', 'V0207', 'V0208', 'V0209']]\n",
    "\n",
    "#Renomeando as colunas\n",
    "dados15.columns = ['UF', 'total_de_moradores', 'especie_do_domicilio', 'tipo_do_domicilio', 'numero_de_comodos', 'condicao_de_ocupacao', \n",
    "                   'aluguel_pago_no_mes', 'prestacao_paga_no_mes']\n",
    "#dados14.columns = ['UF', 'Total de Moradores', ]"
   ]
  },
  {
   "cell_type": "code",
   "execution_count": 53,
   "metadata": {
    "collapsed": true
   },
   "outputs": [],
   "source": [
    "#variáveis qualitativas: regiões, espécie do domicílio, tipo do domicílio, condição de ocupação\n",
    "#variáveis quantitativas: total de moradores, número de cômodos\n",
    "    \n",
    "#classificando as variáveis qualitativas\n",
    "dados15.especie_do_domicilio = dados15.especie_do_domicilio.astype('category')\n",
    "dados15.tipo_do_domicilio = dados15.tipo_do_domicilio.astype('category')\n",
    "\n",
    "dados15.especie_do_domicilio.cat.categories = ('Particular Permanente', 'Particular Improvisado', 'Coletivo')\n",
    "dados15.tipo_do_domicilio.cat.categories = ('Casa', 'Apartamento', 'Cômodo')"
   ]
  },
  {
   "cell_type": "code",
   "execution_count": 54,
   "metadata": {
    "collapsed": false
   },
   "outputs": [],
   "source": [
    "#Criação de coluna para regiões\n",
    "dados15.insert(1,'REGIAO',0)"
   ]
  },
  {
   "cell_type": "code",
   "execution_count": 55,
   "metadata": {
    "collapsed": false
   },
   "outputs": [],
   "source": [
    "#Dividindo as UFs em regiões\n",
    "def regioes(dataframe):\n",
    "    dataframe.ix[dataframe.UF <= 17,'Região'] = 'Norte'\n",
    "    dataframe.ix[(dataframe.UF >=21) & (dataframe.UF<=29),'REGIAO'] = 'Nordeste'\n",
    "    dataframe.ix[(dataframe.UF >=31) & (dataframe.UF<=35),'REGIAO'] = 'Sudeste'\n",
    "    dataframe.ix[(dataframe.UF >=41) & (dataframe.UF<=43),'REGIAO'] = 'Sul'\n",
    "    dataframe.ix[dataframe.UF >=50 ,'Região'] = 'Centro-Oeste'\n",
    "regioes(dados15)"
   ]
  },
  {
   "cell_type": "code",
   "execution_count": 56,
   "metadata": {
    "collapsed": false
   },
   "outputs": [
    {
     "data": {
      "text/html": [
       "<div>\n",
       "<table border=\"1\" class=\"dataframe\">\n",
       "  <thead>\n",
       "    <tr style=\"text-align: right;\">\n",
       "      <th></th>\n",
       "      <th>UF</th>\n",
       "      <th>REGIAO</th>\n",
       "      <th>total_de_moradores</th>\n",
       "      <th>especie_do_domicilio</th>\n",
       "      <th>tipo_do_domicilio</th>\n",
       "      <th>numero_de_comodos</th>\n",
       "      <th>condicao_de_ocupacao</th>\n",
       "      <th>aluguel_pago_no_mes</th>\n",
       "      <th>prestacao_paga_no_mes</th>\n",
       "      <th>Região</th>\n",
       "    </tr>\n",
       "  </thead>\n",
       "  <tbody>\n",
       "    <tr>\n",
       "      <th>0</th>\n",
       "      <td>11</td>\n",
       "      <td>0</td>\n",
       "      <td>1.0</td>\n",
       "      <td>Particular Permanente</td>\n",
       "      <td>Apartamento</td>\n",
       "      <td>4.0</td>\n",
       "      <td>3.0</td>\n",
       "      <td>500.0</td>\n",
       "      <td>NaN</td>\n",
       "      <td>Norte</td>\n",
       "    </tr>\n",
       "    <tr>\n",
       "      <th>1</th>\n",
       "      <td>11</td>\n",
       "      <td>0</td>\n",
       "      <td>NaN</td>\n",
       "      <td>NaN</td>\n",
       "      <td>NaN</td>\n",
       "      <td>NaN</td>\n",
       "      <td>NaN</td>\n",
       "      <td>NaN</td>\n",
       "      <td>NaN</td>\n",
       "      <td>Norte</td>\n",
       "    </tr>\n",
       "    <tr>\n",
       "      <th>2</th>\n",
       "      <td>11</td>\n",
       "      <td>0</td>\n",
       "      <td>1.0</td>\n",
       "      <td>Particular Permanente</td>\n",
       "      <td>Apartamento</td>\n",
       "      <td>2.0</td>\n",
       "      <td>3.0</td>\n",
       "      <td>350.0</td>\n",
       "      <td>NaN</td>\n",
       "      <td>Norte</td>\n",
       "    </tr>\n",
       "    <tr>\n",
       "      <th>3</th>\n",
       "      <td>11</td>\n",
       "      <td>0</td>\n",
       "      <td>6.0</td>\n",
       "      <td>Particular Permanente</td>\n",
       "      <td>Casa</td>\n",
       "      <td>7.0</td>\n",
       "      <td>1.0</td>\n",
       "      <td>NaN</td>\n",
       "      <td>NaN</td>\n",
       "      <td>Norte</td>\n",
       "    </tr>\n",
       "    <tr>\n",
       "      <th>4</th>\n",
       "      <td>11</td>\n",
       "      <td>0</td>\n",
       "      <td>2.0</td>\n",
       "      <td>Particular Permanente</td>\n",
       "      <td>Casa</td>\n",
       "      <td>7.0</td>\n",
       "      <td>1.0</td>\n",
       "      <td>NaN</td>\n",
       "      <td>NaN</td>\n",
       "      <td>Norte</td>\n",
       "    </tr>\n",
       "  </tbody>\n",
       "</table>\n",
       "</div>"
      ],
      "text/plain": [
       "   UF REGIAO  total_de_moradores   especie_do_domicilio tipo_do_domicilio  \\\n",
       "0  11      0                 1.0  Particular Permanente       Apartamento   \n",
       "1  11      0                 NaN                    NaN               NaN   \n",
       "2  11      0                 1.0  Particular Permanente       Apartamento   \n",
       "3  11      0                 6.0  Particular Permanente              Casa   \n",
       "4  11      0                 2.0  Particular Permanente              Casa   \n",
       "\n",
       "   numero_de_comodos  condicao_de_ocupacao  aluguel_pago_no_mes  \\\n",
       "0                4.0                   3.0                500.0   \n",
       "1                NaN                   NaN                  NaN   \n",
       "2                2.0                   3.0                350.0   \n",
       "3                7.0                   1.0                  NaN   \n",
       "4                7.0                   1.0                  NaN   \n",
       "\n",
       "   prestacao_paga_no_mes Região  \n",
       "0                    NaN  Norte  \n",
       "1                    NaN  Norte  \n",
       "2                    NaN  Norte  \n",
       "3                    NaN  Norte  \n",
       "4                    NaN  Norte  "
      ]
     },
     "execution_count": 56,
     "metadata": {},
     "output_type": "execute_result"
    }
   ],
   "source": [
    "dados15.head()"
   ]
  },
  {
   "cell_type": "code",
   "execution_count": null,
   "metadata": {
    "collapsed": true
   },
   "outputs": [],
   "source": []
  },
  {
   "cell_type": "code",
   "execution_count": null,
   "metadata": {
    "collapsed": true
   },
   "outputs": [],
   "source": []
  },
  {
   "cell_type": "code",
   "execution_count": null,
   "metadata": {
    "collapsed": true
   },
   "outputs": [],
   "source": []
  },
  {
   "cell_type": "code",
   "execution_count": null,
   "metadata": {
    "collapsed": true
   },
   "outputs": [],
   "source": []
  },
  {
   "cell_type": "code",
   "execution_count": null,
   "metadata": {
    "collapsed": true
   },
   "outputs": [],
   "source": []
  },
  {
   "cell_type": "code",
   "execution_count": null,
   "metadata": {
    "collapsed": true
   },
   "outputs": [],
   "source": []
  },
  {
   "cell_type": "code",
   "execution_count": null,
   "metadata": {
    "collapsed": true
   },
   "outputs": [],
   "source": []
  },
  {
   "cell_type": "code",
   "execution_count": null,
   "metadata": {
    "collapsed": true
   },
   "outputs": [],
   "source": []
  },
  {
   "cell_type": "code",
   "execution_count": null,
   "metadata": {
    "collapsed": true
   },
   "outputs": [],
   "source": []
  },
  {
   "cell_type": "code",
   "execution_count": null,
   "metadata": {
    "collapsed": true
   },
   "outputs": [],
   "source": []
  }
 ],
 "metadata": {
  "anaconda-cloud": {},
  "kernelspec": {
   "display_name": "Python 3",
   "language": "python",
   "name": "python3"
  },
  "language_info": {
   "codemirror_mode": {
    "name": "ipython",
    "version": 3
   },
   "file_extension": ".py",
   "mimetype": "text/x-python",
   "name": "python",
   "nbconvert_exporter": "python",
   "pygments_lexer": "ipython3",
   "version": "3.5.1"
  }
 },
 "nbformat": 4,
 "nbformat_minor": 0
}
