{
 "cells": [
  {
   "cell_type": "markdown",
   "metadata": {},
   "source": [
    "___\n",
    "# PROJETO 1"
   ]
  },
  {
   "cell_type": "markdown",
   "metadata": {},
   "source": [
    "## Ana Capriles\n",
    "___"
   ]
  },
  {
   "cell_type": "markdown",
   "metadata": {},
   "source": [
    "## ANÁLISE DE DOMICÍLIOS"
   ]
  },
  {
   "cell_type": "markdown",
   "metadata": {},
   "source": [
    "___\n",
    "## Introdução\n",
    "Nessa análise, será estudada e comparada a situação de domicílios que acessam a internet de diferentes maneiras. \n",
    "A situação de cada domicílio que acessa a internet de cada maneira diferente será analisada, e tudo será comparado também com aqueles domicílios que não possuem acesso à internet,\n",
    "levando em conta a região à qual pertencem.\n",
    "    Para o presente fim, serão consideradas sete variáveis mescladas entre quantitativas e qualtativas presentes nas PNADs de 2014 e de 2015, \n",
    "a fim de averiguar a mudança na situação de um ano para o ano seguinte.\n",
    "    As variáveis qualitativas consideradas serão as seguintes:\n",
    "        - Condição de ocupação do domicílio (Próprio pago, próprio pagando, alugado)\n",
    "        - Tipo de domicílio (Casa, Apartamento ou Cômodo)        \n",
    "        - Se há acesso à internet\n",
    "        - Se o acesso realizado é realizado por meio de conexão discada por linha telefônica\n",
    "        - Se o acesso é realizado por meio de banda larga\n",
    "        - Se o acesso é realizado por meio de rede celular 3G ou 4G.\n",
    "    As variáveis quantitativas consideradas serão as seguintes:\n",
    "        - Número de pessoas que moram no domicílio \n",
    "        - Rendimento mensal per capita\n",
    "        - Número de cômodos no domicílio"
   ]
  },
  {
   "cell_type": "markdown",
   "metadata": {},
   "source": [
    "___\n",
    "## Análise e Resultados"
   ]
  },
  {
   "cell_type": "code",
   "execution_count": 35,
   "metadata": {
    "collapsed": true
   },
   "outputs": [],
   "source": [
    "%matplotlib inline\n",
    "import pandas as pd\n",
    "import matplotlib.pyplot as plt\n",
    "import numpy as np"
   ]
  },
  {
   "cell_type": "markdown",
   "metadata": {},
   "source": [
    "## 2015"
   ]
  },
  {
   "cell_type": "code",
   "execution_count": 36,
   "metadata": {
    "collapsed": false
   },
   "outputs": [],
   "source": [
    "d15 = pd.read_csv('DOM2015.csv',sep=',')"
   ]
  },
  {
   "cell_type": "code",
   "execution_count": 37,
   "metadata": {
    "collapsed": false
   },
   "outputs": [],
   "source": [
    "#Trabalhar com todos os domicílios considerados permanente V0201 = 1\n",
    "#Trabalhar com todos os domicílios Próprio Pago (1), Próprio Pagando (2), Alugado (3) \n",
    "d15 = d15.dropna(subset=['V4621'])\n",
    "d15 = d15[d15.V4621<3000000]\n",
    "d15 = d15[d15.V0207<=3]"
   ]
  },
  {
   "cell_type": "code",
   "execution_count": 38,
   "metadata": {
    "collapsed": false
   },
   "outputs": [],
   "source": [
    "d15[\"REGIAO\"]='x'\n",
    "d15.loc[(d15['UF'] >=10) & (d15['UF'] < 20),'REGIAO'] = 'Norte'\n",
    "d15.loc[(d15['UF'] >=20) & (d15['UF'] < 30),'REGIAO'] = 'Nordeste'\n",
    "d15.loc[(d15['UF'] >=30) & (d15['UF'] < 40),'REGIAO'] = 'Sudeste'\n",
    "d15.loc[(d15['UF'] >=40) & (d15['UF'] < 50),'REGIAO'] = 'Sul'\n",
    "d15.loc[(d15['UF'] >=50) & (d15['UF'] < 60),'REGIAO'] = 'Centro-Oeste'"
   ]
  },
  {
   "cell_type": "code",
   "execution_count": null,
   "metadata": {
    "collapsed": true
   },
   "outputs": [],
   "source": [
    "#variáveis quant\n",
    "\n",
    "#V4620 - número de componentes do domicílio\n",
    "\n",
    "# - rendimento mensal per capita\n",
    "\n",
    "# - número de cômodos do domicílio\n",
    "\n",
    "#variáveis quali\n",
    "\n",
    "#V0207 - Condição de Ocupação do Domicílio\n",
    "d15.V0207 = d15.V0207.astype('category')\n",
    "d15.V0207.cat.categories = ('Próprio pago', 'Próprio pagando', 'Alugado')\n",
    "\n",
    "#V0202 - Tipo de Domicílio\n",
    "d15.V0202 = d15.V0202.astype('category')\n",
    "d15.V0202.cat.categories = ('Casa','Apartamento', 'Cômodo')\n",
    "\n",
    "#V02322 - Tem acesso à Internet no próprio domicilio\n",
    "d15.V02322 = d15.V02322.astype('category')\n",
    "d15.V02322.cat.categories = ('Sim', 'Não')\n",
    "\n",
    "#V02425 - Se o acesso realizado é realizado por meio de conexão discada por linha telefônica\n",
    "d15.V0215 = d15.V0215.astype('category')\n",
    "d15.V0215.cat.categories = ('Sim', 'Não')\n",
    "\n",
    "#V02426 - Se o acesso é realizado por meio de banda larga\n",
    "\n",
    "#V02424 - Se o acesso é realizado por meio de rede celular 3G ou 4G."
   ]
  },
  {
   "cell_type": "markdown",
   "metadata": {},
   "source": [
    "## Análise de variáveis qualitativas por região"
   ]
  },
  {
   "cell_type": "code",
   "execution_count": 39,
   "metadata": {
    "collapsed": false
   },
   "outputs": [
    {
     "name": "stdout",
     "output_type": "stream",
     "text": [
      " \n",
      " \n",
      "Tem acesso à Internet no próprio domicilio\n",
      " \n",
      "2015\n"
     ]
    },
    {
     "data": {
      "image/png": "[encoded data removed]",
      "text/plain": [
       "<matplotlib.figure.Figure at 0x2445bec0390>"
      ]
     },
     "metadata": {},
     "output_type": "display_data"
    },
    {
     "name": "stdout",
     "output_type": "stream",
     "text": [
      " \n",
      " \n",
      "Se o acesso realizado é realizado por meio de conexão discada por linha telefônica\n",
      " \n",
      "2015\n"
     ]
    },
    {
     "data": {
      "image/png": "[encoded data removed]",
      "text/plain": [
       "<matplotlib.figure.Figure at 0x2445bd2c8d0>"
      ]
     },
     "metadata": {},
     "output_type": "display_data"
    },
    {
     "name": "stdout",
     "output_type": "stream",
     "text": [
      " \n",
      " \n",
      "Se o acesso é realizado por meio de banda larga\n",
      " \n",
      "2015\n"
     ]
    },
    {
     "data": {
      "image/png": "[encoded data removed]",
      "text/plain": [
       "<matplotlib.figure.Figure at 0x2445c40b048>"
      ]
     },
     "metadata": {},
     "output_type": "display_data"
    },
    {
     "name": "stdout",
     "output_type": "stream",
     "text": [
      " \n",
      " \n",
      "Se o acesso é realizado por meio de rede celular 3G ou 4G.\n",
      " \n",
      "2015\n"
     ]
    },
    {
     "data": {
      "image/png": "[encoded data removed]",
      "text/plain": [
       "<matplotlib.figure.Figure at 0x24462e1c048>"
      ]
     },
     "metadata": {},
     "output_type": "display_data"
    }
   ],
   "source": [
    "vars = ('V02322','V02425','V02426','V02424')\n",
    "nomevar = ('Tem acesso à Internet no próprio domicilio', 'Se o acesso realizado é realizado por meio de conexão discada por linha telefônica',\n",
    "          'Se o acesso é realizado por meio de banda larga', 'Se o acesso é realizado por meio de rede celular 3G ou 4G.')\n",
    "\n",
    "for var in vars:\n",
    "    print(' ')    \n",
    "    print(' ')\n",
    "    print(nomevar[vars.index(var)])\n",
    "    print(' ')\n",
    "    print('2015')\n",
    "    \n",
    "    fig = plt.figure(figsize=(15, 3))\n",
    "\n",
    "    plt.subplot(151)\n",
    "    a = d15[var][d15.REGIAO == 'Norte'].value_counts().reindex(['Sim', 'Não'])\n",
    "    a.plot(kind='pie', autopct=\"%.2f\",legend=False)\n",
    "    plt.title('Norte')\n",
    "    plt.ylabel(' ')\n",
    "\n",
    "    plt.subplot(152)\n",
    "    a = d15[var][d15.REGIAO == 'Nordeste'].value_counts().reindex(['Sim', 'Não'])\n",
    "    a.plot(kind='pie', autopct=\"%.2f\",legend=False)\n",
    "    plt.title('Nordeste')\n",
    "    plt.ylabel(' ')\n",
    "\n",
    "    plt.subplot(153)\n",
    "    a = d15[var][d15.REGIAO == 'Sul'].value_counts().reindex(['Sim', 'Não'])\n",
    "    a.plot(kind='pie', autopct=\"%.2f\",legend=False)\n",
    "    plt.title('Sul')\n",
    "    plt.ylabel(' ')\n",
    "\n",
    "    plt.subplot(154)\n",
    "    a = d15[var][d15.REGIAO == 'Sudeste'].value_counts().reindex(['Sim', 'Não'])\n",
    "    a.plot(kind='pie', autopct=\"%.2f\",legend=False)\n",
    "    plt.title('Sudeste')\n",
    "    plt.ylabel(' ')\n",
    "\n",
    "    plt.subplot(155)\n",
    "    a = d15[var][d15.REGIAO == 'Centro-Oeste'].value_counts().reindex(['Sim', 'Não'])\n",
    "    a.plot(kind='pie', autopct=\"%.2f\",legend=False)\n",
    "    plt.title('Centro-Oeste')\n",
    "    plt.ylabel(' ')\n",
    "\n",
    "    plt.tight_layout()\n",
    "    plt.show()"
   ]
  },
  {
   "cell_type": "code",
   "execution_count": null,
   "metadata": {
    "collapsed": true
   },
   "outputs": [],
   "source": []
  },
  {
   "cell_type": "code",
   "execution_count": null,
   "metadata": {
    "collapsed": true
   },
   "outputs": [],
   "source": []
  },
  {
   "cell_type": "code",
   "execution_count": null,
   "metadata": {
    "collapsed": true
   },
   "outputs": [],
   "source": []
  },
  {
   "cell_type": "code",
   "execution_count": null,
   "metadata": {
    "collapsed": true
   },
   "outputs": [],
   "source": []
  },
  {
   "cell_type": "code",
   "execution_count": null,
   "metadata": {
    "collapsed": true
   },
   "outputs": [],
   "source": []
  },
  {
   "cell_type": "code",
   "execution_count": null,
   "metadata": {
    "collapsed": true
   },
   "outputs": [],
   "source": []
  },
  {
   "cell_type": "code",
   "execution_count": null,
   "metadata": {
    "collapsed": true
   },
   "outputs": [],
   "source": []
  },
  {
   "cell_type": "code",
   "execution_count": null,
   "metadata": {
    "collapsed": true
   },
   "outputs": [],
   "source": []
  },
  {
   "cell_type": "code",
   "execution_count": null,
   "metadata": {
    "collapsed": true
   },
   "outputs": [],
   "source": []
  }
 ],
 "metadata": {
  "anaconda-cloud": {},
  "kernelspec": {
   "display_name": "Python 3",
   "language": "python",
   "name": "python3"
  },
  "language_info": {
   "codemirror_mode": {
    "name": "ipython",
    "version": 3
   },
   "file_extension": ".py",
   "mimetype": "text/x-python",
   "name": "python",
   "nbconvert_exporter": "python",
   "pygments_lexer": "ipython3",
   "version": "3.5.1"
  }
 },
 "nbformat": 4,
 "nbformat_minor": 0
}
